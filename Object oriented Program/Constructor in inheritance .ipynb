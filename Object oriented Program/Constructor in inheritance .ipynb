{
 "cells": [
  {
   "cell_type": "code",
   "execution_count": 3,
   "id": "fd2c6fbb",
   "metadata": {},
   "outputs": [],
   "source": [
    "class A: # super class \n",
    "    \n",
    "    def __init__(self):\n",
    "        print(' in A init')\n",
    "    def feature_1(self):\n",
    "        print('feature 1 working')\n",
    "    def feature_2(self):\n",
    "        print('feature 2 working')\n",
    "        \n",
    "class B(A): # sub classs\n",
    "    \n",
    "    def feature_3(self):\n",
    "        print('feature 3 working')\n",
    "    def feature_4(self):\n",
    "        print('feature 4 working')"
   ]
  },
  {
   "cell_type": "code",
   "execution_count": 4,
   "id": "5b14856d",
   "metadata": {},
   "outputs": [
    {
     "name": "stdout",
     "output_type": "stream",
     "text": [
      " in A init\n"
     ]
    }
   ],
   "source": [
    "a1 = A()"
   ]
  },
  {
   "cell_type": "code",
   "execution_count": 7,
   "id": "43a6ef2e",
   "metadata": {},
   "outputs": [
    {
     "name": "stdout",
     "output_type": "stream",
     "text": [
      " in A init\n"
     ]
    }
   ],
   "source": [
    "b1 = B()\n",
    "# here we call init function inside the class because there is no init function inside class B"
   ]
  },
  {
   "cell_type": "markdown",
   "id": "30b51444",
   "metadata": {},
   "source": [
    "#### If you create object of sub class it will first try find init of sub class. if its not found then it will call init of super class"
   ]
  },
  {
   "cell_type": "code",
   "execution_count": 16,
   "id": "a01579d5",
   "metadata": {},
   "outputs": [],
   "source": [
    "class C: # super class \n",
    "    \n",
    "    def __init__(self):\n",
    "        print('in C init')\n",
    "        \n",
    "    def feature_5(self):\n",
    "        print('feature 5 working')\n",
    "        \n",
    "    def feature_6(self):\n",
    "        print('feature 6 working')\n",
    "        \n",
    "        \n",
    "class D(C): # sub classs\n",
    "    \n",
    "    def __init__(self):\n",
    "        super().__init__()\n",
    "        print('in D init')\n",
    "        \n",
    "    def feature_7(self):\n",
    "        print('feature 7 working')\n",
    "        \n",
    "    def feature_8(self):\n",
    "        print('feature 8 working')"
   ]
  },
  {
   "cell_type": "code",
   "execution_count": 17,
   "id": "8537efc0",
   "metadata": {},
   "outputs": [
    {
     "name": "stdout",
     "output_type": "stream",
     "text": [
      "in C init\n",
      "in D init\n"
     ]
    }
   ],
   "source": [
    "c1 = D() # by use of super().__init__ method, class D can call all feature inside the superclass"
   ]
  },
  {
   "cell_type": "code",
   "execution_count": null,
   "id": "ead788a4",
   "metadata": {},
   "outputs": [],
   "source": []
  },
  {
   "cell_type": "code",
   "execution_count": null,
   "id": "6248c5ee",
   "metadata": {},
   "outputs": [],
   "source": []
  },
  {
   "cell_type": "code",
   "execution_count": 4,
   "id": "7ee92b75",
   "metadata": {},
   "outputs": [],
   "source": [
    "n_hidden = 2\n",
    "n_neuraons = 30\n",
    "input_shape = [8]\n",
    "options = {'input_shape': input_shape}"
   ]
  },
  {
   "cell_type": "code",
   "execution_count": 7,
   "id": "b745dc70",
   "metadata": {},
   "outputs": [
    {
     "ename": "TypeError",
     "evalue": "can only concatenate str (not \"int\") to str",
     "output_type": "error",
     "traceback": [
      "\u001b[1;31m---------------------------------------------------------------------------\u001b[0m",
      "\u001b[1;31mTypeError\u001b[0m                                 Traceback (most recent call last)",
      "\u001b[1;32m~\\AppData\\Local\\Temp\\ipykernel_19672\\4276550258.py\u001b[0m in \u001b[0;36m<module>\u001b[1;34m\u001b[0m\n\u001b[0;32m      1\u001b[0m \u001b[1;32mfor\u001b[0m \u001b[0mlayer\u001b[0m \u001b[1;32min\u001b[0m \u001b[0mrange\u001b[0m\u001b[1;33m(\u001b[0m\u001b[0mn_hidden\u001b[0m\u001b[1;33m)\u001b[0m\u001b[1;33m:\u001b[0m\u001b[1;33m\u001b[0m\u001b[1;33m\u001b[0m\u001b[0m\n\u001b[1;32m----> 2\u001b[1;33m     \u001b[0mprint\u001b[0m\u001b[1;33m(\u001b[0m\u001b[1;34m'this is'\u001b[0m\u001b[1;33m+\u001b[0m \u001b[0mlayer\u001b[0m\u001b[1;33m)\u001b[0m\u001b[1;33m\u001b[0m\u001b[1;33m\u001b[0m\u001b[0m\n\u001b[0m\u001b[0;32m      3\u001b[0m \u001b[1;33m\u001b[0m\u001b[0m\n",
      "\u001b[1;31mTypeError\u001b[0m: can only concatenate str (not \"int\") to str"
     ]
    }
   ],
   "source": [
    "for layer in range(n_hidden):\n",
    "    print('this is'+layer)\n",
    "    "
   ]
  }
 ],
 "metadata": {
  "kernelspec": {
   "display_name": "Python 3 (ipykernel)",
   "language": "python",
   "name": "python3"
  },
  "language_info": {
   "codemirror_mode": {
    "name": "ipython",
    "version": 3
   },
   "file_extension": ".py",
   "mimetype": "text/x-python",
   "name": "python",
   "nbconvert_exporter": "python",
   "pygments_lexer": "ipython3",
   "version": "3.9.13"
  }
 },
 "nbformat": 4,
 "nbformat_minor": 5
}
