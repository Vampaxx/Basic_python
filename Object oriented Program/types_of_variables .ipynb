{
 "cells": [
  {
   "cell_type": "markdown",
   "id": "f0d0cd8a",
   "metadata": {},
   "source": [
    "## Types of Variable\n",
    "\n",
    "\n",
    "- Instance variables \n",
    "- Class(static) variable"
   ]
  },
  {
   "cell_type": "code",
   "execution_count": 14,
   "id": "95f8e06c",
   "metadata": {},
   "outputs": [],
   "source": [
    "class Car:\n",
    "    \n",
    "    #variable write outside the variable is called classic variable, if effect the all class objects\n",
    "    wheel = 4\n",
    "    \n",
    "    def __init__(self):       # variable wite inside the __init__ is called instance variable\n",
    "        self.mileage = 15    \n",
    "        self.company = 'Benz'"
   ]
  },
  {
   "cell_type": "code",
   "execution_count": 15,
   "id": "1658d99f",
   "metadata": {},
   "outputs": [
    {
     "name": "stdout",
     "output_type": "stream",
     "text": [
      "25 BMW 4\n",
      "15 Benz 4\n"
     ]
    }
   ],
   "source": [
    "c1 = Car()\n",
    "c2 = Car()\n",
    "\n",
    "c1.mileage = 25\n",
    "c1.company = 'BMW'\n",
    "print(c1.mileage,c1.company,c1.wheel)\n",
    "print(c2.mileage,c2.company,c2.wheel)"
   ]
  },
  {
   "cell_type": "code",
   "execution_count": 16,
   "id": "9362ea00",
   "metadata": {},
   "outputs": [
    {
     "name": "stdout",
     "output_type": "stream",
     "text": [
      "25 BMW 5\n",
      "15 Benz 5\n"
     ]
    }
   ],
   "source": [
    "## How to change the variable whee\n",
    "\n",
    "Car.wheel = 5\n",
    "print(c1.mileage,c1.company,c1.wheel)\n",
    "print(c2.mileage,c2.company,c2.wheel)"
   ]
  },
  {
   "cell_type": "code",
   "execution_count": null,
   "id": "bf9146f6",
   "metadata": {},
   "outputs": [],
   "source": []
  }
 ],
 "metadata": {
  "kernelspec": {
   "display_name": "Python 3 (ipykernel)",
   "language": "python",
   "name": "python3"
  },
  "language_info": {
   "codemirror_mode": {
    "name": "ipython",
    "version": 3
   },
   "file_extension": ".py",
   "mimetype": "text/x-python",
   "name": "python",
   "nbconvert_exporter": "python",
   "pygments_lexer": "ipython3",
   "version": "3.11.4"
  }
 },
 "nbformat": 4,
 "nbformat_minor": 5
}
