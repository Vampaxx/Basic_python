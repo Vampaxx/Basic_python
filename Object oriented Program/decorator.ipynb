{
 "cells": [
  {
   "cell_type": "code",
   "execution_count": 1,
   "id": "0996ede4",
   "metadata": {},
   "outputs": [],
   "source": [
    "def double (x):\n",
    "    return 2*x"
   ]
  },
  {
   "cell_type": "code",
   "execution_count": 2,
   "id": "29cc72ef",
   "metadata": {},
   "outputs": [],
   "source": [
    "def add(a,b):\n",
    "    return a+b"
   ]
  },
  {
   "cell_type": "code",
   "execution_count": 6,
   "id": "8db378c5",
   "metadata": {},
   "outputs": [
    {
     "data": {
      "text/plain": [
       "7"
      ]
     },
     "execution_count": 6,
     "metadata": {},
     "output_type": "execute_result"
    }
   ],
   "source": [
    "add(2,5)"
   ]
  },
  {
   "cell_type": "code",
   "execution_count": 7,
   "id": "ac21ed5b",
   "metadata": {},
   "outputs": [
    {
     "data": {
      "text/plain": [
       "16"
      ]
     },
     "execution_count": 7,
     "metadata": {},
     "output_type": "execute_result"
    }
   ],
   "source": [
    "double(8)"
   ]
  },
  {
   "cell_type": "code",
   "execution_count": 9,
   "id": "4692b44c",
   "metadata": {},
   "outputs": [
    {
     "data": {
      "text/plain": [
       "16"
      ]
     },
     "execution_count": 9,
     "metadata": {},
     "output_type": "execute_result"
    }
   ],
   "source": [
    "double(add(2,6))\n",
    "# here add act as a agrument for double function"
   ]
  },
  {
   "cell_type": "code",
   "execution_count": 16,
   "id": "7655c0e4",
   "metadata": {},
   "outputs": [],
   "source": [
    "## we use decorator function for achieve this"
   ]
  },
  {
   "cell_type": "code",
   "execution_count": 17,
   "id": "01f528c4",
   "metadata": {},
   "outputs": [],
   "source": [
    "def decorator(func):\n",
    "    def add(a,b):\n",
    "        result = func(a+b)\n",
    "        return result\n",
    "    return add"
   ]
  },
  {
   "cell_type": "code",
   "execution_count": 19,
   "id": "cc4362ed",
   "metadata": {},
   "outputs": [],
   "source": [
    "@decorate\n",
    "def double(x):\n",
    "    return 2*x"
   ]
  },
  {
   "cell_type": "code",
   "execution_count": 20,
   "id": "45cfadce",
   "metadata": {},
   "outputs": [
    {
     "data": {
      "text/plain": [
       "14"
      ]
     },
     "execution_count": 20,
     "metadata": {},
     "output_type": "execute_result"
    }
   ],
   "source": [
    "double(5,2)"
   ]
  },
  {
   "cell_type": "code",
   "execution_count": null,
   "id": "1b3ccad9",
   "metadata": {},
   "outputs": [],
   "source": []
  }
 ],
 "metadata": {
  "kernelspec": {
   "display_name": "Python 3 (ipykernel)",
   "language": "python",
   "name": "python3"
  },
  "language_info": {
   "codemirror_mode": {
    "name": "ipython",
    "version": 3
   },
   "file_extension": ".py",
   "mimetype": "text/x-python",
   "name": "python",
   "nbconvert_exporter": "python",
   "pygments_lexer": "ipython3",
   "version": "3.9.13"
  }
 },
 "nbformat": 4,
 "nbformat_minor": 5
}
