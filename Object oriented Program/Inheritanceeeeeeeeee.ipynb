{
 "cells": [
  {
   "cell_type": "code",
   "execution_count": 1,
   "id": "6a324cf6",
   "metadata": {},
   "outputs": [],
   "source": [
    "class Employee:\n",
    "    \n",
    "    raise_amount = 1.04\n",
    "    \n",
    "    def __init__(self,first,last,salary):\n",
    "        self.first  = first\n",
    "        self.last   = last\n",
    "        self.salary = salary\n",
    "        self.email  = first.lower() + last.lower() + '1001.@gmail.com'\n",
    "        \n",
    "    def fullname(self):\n",
    "        return '{} {}'.format(self.first,self.last)\n",
    "    \n",
    "    def apply_raise(self):\n",
    "        self.salary = int(self.salary * self.raise_amount)\n",
    "        \n",
    "class Developer(Employee):\n",
    "    pass\n",
    "    \n",
    "    "
   ]
  },
  {
   "cell_type": "code",
   "execution_count": 2,
   "id": "70698e68",
   "metadata": {},
   "outputs": [
    {
     "name": "stdout",
     "output_type": "stream",
     "text": [
      "arjunkhan1001.@gmail.com\n",
      "michealjackson1001.@gmail.com\n"
     ]
    }
   ],
   "source": [
    "dev_1 = Developer('Arjun','Khan',65000)\n",
    "dev_2 = Developer('Micheal', 'Jackson',75000)\n",
    "\n",
    "print(dev_1.email)\n",
    "print(dev_2.email)"
   ]
  },
  {
   "cell_type": "code",
   "execution_count": 3,
   "id": "70206346",
   "metadata": {},
   "outputs": [
    {
     "name": "stdout",
     "output_type": "stream",
     "text": [
      "65000\n",
      "67600\n"
     ]
    }
   ],
   "source": [
    "print(dev_1.salary) # before raise the amount\n",
    "dev_1.apply_raise()\n",
    "print(dev_1.salary) #after raise the amount"
   ]
  },
  {
   "cell_type": "code",
   "execution_count": 4,
   "id": "2c75c871",
   "metadata": {},
   "outputs": [],
   "source": [
    "class Employee:\n",
    "    \n",
    "    raise_amount = 1.04\n",
    "    \n",
    "    def __init__(self,first,last,salary):\n",
    "        self.first  = first\n",
    "        self.last   = last\n",
    "        self.salary = salary\n",
    "        self.email  = first.lower() + last.lower() + '1001.@gmail.com'\n",
    "        \n",
    "    def fullname(self):\n",
    "        return '{} {}'.format(self.first,self.last)\n",
    "    \n",
    "    def apply_raise(self):\n",
    "        self.salary = int(self.salary * self.raise_amount)\n",
    "        \n",
    "class Developer(Employee):\n",
    "    \n",
    "    raise_amount = 1.10\n",
    "    \n",
    "    def __init__(self,first,last,salary,programing_language):\n",
    "        super().__init__(first,last,salary)\n",
    "        self.programing_language = programing_language\n",
    "    \n",
    "    "
   ]
  },
  {
   "cell_type": "code",
   "execution_count": 5,
   "id": "7c5325da",
   "metadata": {
    "scrolled": true
   },
   "outputs": [
    {
     "name": "stdout",
     "output_type": "stream",
     "text": [
      "arjunkhan1001.@gmail.com\n",
      "Java\n"
     ]
    }
   ],
   "source": [
    "dev_1 = Developer('Arjun','Khan',65000,'Python')\n",
    "dev_2 = Developer('Micheal', 'Jackson',75000,'Java')\n",
    "\n",
    "print(dev_1.email) # this is inheritance from Class Employee,\n",
    "print(dev_2.programing_language)"
   ]
  },
  {
   "cell_type": "code",
   "execution_count": 13,
   "id": "73981eac",
   "metadata": {},
   "outputs": [],
   "source": [
    "class Employee:\n",
    "    \n",
    "    raise_amount = 1.04\n",
    "    \n",
    "    def __init__(self,first,last,salary):\n",
    "        self.first  = first\n",
    "        self.last   = last\n",
    "        self.salary = salary\n",
    "        self.email  = first.lower() + last.lower() + '1001.@gmail.com'\n",
    "        \n",
    "    def fullname(self):\n",
    "        return '{} {}'.format(self.first,self.last)\n",
    "    \n",
    "    def apply_raise(self):\n",
    "        self.salary = int(self.salary * self.raise_amount)\n",
    "        \n",
    "class Developer(Employee):\n",
    "    \n",
    "    raise_amount = 1.10\n",
    "    \n",
    "    def __init__(self,first,last,salary,programing_language):\n",
    "        super().__init__(first,last,salary)\n",
    "        self.programing_language = programing_language\n",
    "    \n",
    "class Manager(Employee):\n",
    "    \n",
    "    def __init__(self,first,last,salary,employees = None):\n",
    "        super().__init__(first,last,salary)\n",
    "        \n",
    "        if employees is None:\n",
    "            self.employees = []\n",
    "        else:\n",
    "            self.employees = employees\n",
    "            \n",
    "    def add_employee(self,emp):\n",
    "        \n",
    "        if emp not in self.employees:\n",
    "            self.employees.append(emp)\n",
    "            \n",
    "    def remove_employee(self,emp):\n",
    "        \n",
    "        if emp in self.employees:\n",
    "            self.employees.remove(emp)\n",
    "            \n",
    "    def print_employee(self):\n",
    "        \n",
    "        for emp in self.employees:\n",
    "            print('-->',emp.fullname())\n",
    "        \n",
    "            "
   ]
  },
  {
   "cell_type": "code",
   "execution_count": 40,
   "id": "fec3acc4",
   "metadata": {},
   "outputs": [],
   "source": [
    "manager_1 = Manager('Mia','khalifa',90000,[dev_1])\n",
    "#manager_2 = ('Mia','Malkova',69000)"
   ]
  },
  {
   "cell_type": "code",
   "execution_count": 41,
   "id": "7309ecde",
   "metadata": {},
   "outputs": [
    {
     "name": "stdout",
     "output_type": "stream",
     "text": [
      "--> Arjun Khan\n"
     ]
    }
   ],
   "source": [
    "manager_1.print_employee()"
   ]
  },
  {
   "cell_type": "code",
   "execution_count": 44,
   "id": "ca3e5227",
   "metadata": {},
   "outputs": [
    {
     "name": "stdout",
     "output_type": "stream",
     "text": [
      "----------------------\n",
      "--> Arjun Khan\n",
      "--> Micheal Jackson\n"
     ]
    }
   ],
   "source": [
    "manager_1.add_employee(dev_2)\n",
    "print('----------------------')\n",
    "manager_1.print_employee()"
   ]
  },
  {
   "cell_type": "code",
   "execution_count": 45,
   "id": "e2279821",
   "metadata": {},
   "outputs": [
    {
     "name": "stdout",
     "output_type": "stream",
     "text": [
      "--> Micheal Jackson\n"
     ]
    }
   ],
   "source": [
    "manager_1.remove_employee(dev_1) #  removing employee from manager \n",
    "manager_1.print_employee() "
   ]
  },
  {
   "cell_type": "code",
   "execution_count": 57,
   "id": "dbb5ff16",
   "metadata": {},
   "outputs": [
    {
     "name": "stdout",
     "output_type": "stream",
     "text": [
      "True\n",
      "False\n"
     ]
    }
   ],
   "source": [
    "print(isinstance(manager_1,Employee)) # check manager_1 is instance of Class Employee\n",
    "print(isinstance(manager_1,Developer)) "
   ]
  },
  {
   "cell_type": "code",
   "execution_count": 58,
   "id": "bd85bdfa",
   "metadata": {},
   "outputs": [
    {
     "name": "stdout",
     "output_type": "stream",
     "text": [
      "False\n",
      "True\n"
     ]
    }
   ],
   "source": [
    "print(issubclass(Developer, Manager)) # check Developer is subclass of class Manager\n",
    "print(issubclass(Developer, Employee)) # check Developer is subclass of class Employee \n"
   ]
  },
  {
   "cell_type": "code",
   "execution_count": null,
   "id": "80993bbd",
   "metadata": {},
   "outputs": [],
   "source": []
  }
 ],
 "metadata": {
  "kernelspec": {
   "display_name": "Python 3 (ipykernel)",
   "language": "python",
   "name": "python3"
  },
  "language_info": {
   "codemirror_mode": {
    "name": "ipython",
    "version": 3
   },
   "file_extension": ".py",
   "mimetype": "text/x-python",
   "name": "python",
   "nbconvert_exporter": "python",
   "pygments_lexer": "ipython3",
   "version": "3.11.4"
  }
 },
 "nbformat": 4,
 "nbformat_minor": 5
}
