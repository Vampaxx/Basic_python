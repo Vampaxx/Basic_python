{
 "cells": [
  {
   "cell_type": "code",
   "execution_count": 1,
   "id": "83ba73e4",
   "metadata": {},
   "outputs": [],
   "source": [
    "class Employee:\n",
    "    pass"
   ]
  },
  {
   "cell_type": "code",
   "execution_count": 2,
   "id": "5ba663eb",
   "metadata": {},
   "outputs": [
    {
     "data": {
      "text/plain": [
       "'Arjun'"
      ]
     },
     "execution_count": 2,
     "metadata": {},
     "output_type": "execute_result"
    }
   ],
   "source": [
    "emp1 = Employee()\n",
    "emp2 = Employee()\n",
    "\n",
    "emp1.first = 'Arjun'\n",
    "emp1.last = 'khan'\n",
    "emp1.email = 'arjunappu1001@gmail.com'\n",
    "emp1.salary = 600000\n",
    "\n",
    "emp2.first = 'Micheal'\n",
    "emp2.last = 'jackson'\n",
    "emp2.email = 'michealjackson1001@gmail.com'\n",
    "emp2.salary = 450000\n",
    "\n",
    "\n",
    "emp1.first\n",
    "# so if we do like this we dont get much benifits from this class method"
   ]
  },
  {
   "cell_type": "code",
   "execution_count": 3,
   "id": "955bbeec",
   "metadata": {},
   "outputs": [],
   "source": [
    "class Employee:\n",
    "    \n",
    "    raise_amount = 1.04\n",
    "    \n",
    "    def __init__(self,first,last,salary):\n",
    "        self.first  = first\n",
    "        self.last   = last\n",
    "        self.salary = salary\n",
    "        self.email  = first.lower() + last.lower() + '1001.@gmail.com'\n",
    "        \n",
    "    def fullname(self):\n",
    "        return '{} {}'.format(self.first,self.last)\n",
    "    \n",
    "    def apply_raise(self):\n",
    "        return int(self.salary * Employee.raise_amount) # we can call raise_amount by 1. selft.raise_amount \n",
    "                                                                                    # 2. Employee.raise_amount"
   ]
  },
  {
   "cell_type": "code",
   "execution_count": 4,
   "id": "6335c5ae",
   "metadata": {},
   "outputs": [],
   "source": [
    "emp1 = Employee('Arjun','appu',65000)\n",
    "emp2 = Employee('Micheal','jackson',45000)"
   ]
  },
  {
   "cell_type": "code",
   "execution_count": 5,
   "id": "5819b7ca",
   "metadata": {
    "scrolled": true
   },
   "outputs": [
    {
     "data": {
      "text/plain": [
       "'Micheal jackson'"
      ]
     },
     "execution_count": 5,
     "metadata": {},
     "output_type": "execute_result"
    }
   ],
   "source": [
    "emp2.fullname()"
   ]
  },
  {
   "cell_type": "code",
   "execution_count": 6,
   "id": "732b1538",
   "metadata": {},
   "outputs": [
    {
     "name": "stdout",
     "output_type": "stream",
     "text": [
      "65000\n",
      "67600\n",
      "1.04\n",
      "1.04\n",
      "{'first': 'Arjun', 'last': 'appu', 'salary': 65000, 'email': 'arjunappu1001.@gmail.com'}\n",
      "{'first': 'Micheal', 'last': 'jackson', 'salary': 45000, 'email': 'michealjackson1001.@gmail.com'}\n"
     ]
    }
   ],
   "source": [
    "print(emp1.salary)\n",
    "print(emp1.apply_raise())\n",
    "\n",
    "# And we can call the raise amount by \n",
    "print(emp1.raise_amount)\n",
    "print(emp2.raise_amount)\n",
    "\n",
    "# display the attributes (or instance variables) of an object in the form of a dictionary.\n",
    "print(emp1.__dict__)\n",
    "print(emp2.__dict__) # here we dont get the raise_amount, but \n",
    "\n",
    "# print(Employee.__dict__) # we got the raise_amount\n"
   ]
  },
  {
   "cell_type": "code",
   "execution_count": 7,
   "id": "f15406f9",
   "metadata": {},
   "outputs": [
    {
     "name": "stdout",
     "output_type": "stream",
     "text": [
      "1.05\n",
      "1.05\n",
      "1.05\n"
     ]
    }
   ],
   "source": [
    "# we can change the raise_amount by \n",
    "Employee.raise_amount = 1.05\n",
    "\n",
    "print(Employee.raise_amount)\n",
    "print(emp1.raise_amount)\n",
    "print(emp2.raise_amount)\n"
   ]
  },
  {
   "cell_type": "code",
   "execution_count": 8,
   "id": "5cf24796",
   "metadata": {},
   "outputs": [
    {
     "name": "stdout",
     "output_type": "stream",
     "text": [
      "1.05\n",
      "1.06\n",
      "1.05\n"
     ]
    }
   ],
   "source": [
    "\n",
    "# but if we change by through this, \n",
    "emp1.raise_amount = 1.06\n",
    "\n",
    "print(Employee.raise_amount)\n",
    "print(emp1.raise_amount)\n",
    "print(emp2.raise_amount)"
   ]
  },
  {
   "cell_type": "code",
   "execution_count": 9,
   "id": "2879d023",
   "metadata": {},
   "outputs": [],
   "source": [
    "class Employee:\n",
    "    \n",
    "    raise_amount       = 1.04\n",
    "    number_of_employee = 0\n",
    "    \n",
    "    def __init__(self,first,last,salary):\n",
    "        self.first  = first\n",
    "        self.last   = last\n",
    "        self.salary = salary\n",
    "        self.email  = first.lower() + last.lower() + '1001.@gmail.com'\n",
    "        \n",
    "        Employee.number_of_employee +=1 \n",
    "        # since the each __init__ method  runs every times, we create a new employee and increse the number of employee by 1\n",
    "        \n",
    "    def fullname(self):\n",
    "        return '{} {}'.format(self.first,self.last)\n",
    "    \n",
    "    def apply_raise(self):\n",
    "        return int(self.salary * Employee.raise_amount)"
   ]
  },
  {
   "cell_type": "code",
   "execution_count": 10,
   "id": "a5048e2b",
   "metadata": {},
   "outputs": [
    {
     "name": "stdout",
     "output_type": "stream",
     "text": [
      "0\n",
      "----------------------------------------\n",
      "1\n",
      "----------------------------------------\n",
      "2\n",
      "----------------------------------------\n",
      "3\n"
     ]
    }
   ],
   "source": [
    "# Initial value of employee\n",
    "print(Employee.number_of_employee)\n",
    "print('----------------------------------------')\n",
    "\n",
    "emp1 = Employee('Arjun','appu',65000)\n",
    "print(emp1.number_of_employee)\n",
    "print('----------------------------------------')\n",
    "\n",
    "emp2 = Employee('Micheal','jackson',45000)\n",
    "print(emp2.number_of_employee)\n",
    "print('----------------------------------------')\n",
    "\n",
    "emp3 = Employee('Mia','khalifa',21000)\n",
    "print(emp3.number_of_employee)"
   ]
  },
  {
   "cell_type": "code",
   "execution_count": 11,
   "id": "ec8ad902",
   "metadata": {},
   "outputs": [],
   "source": [
    "class Employee:\n",
    "    \n",
    "    raise_amount       = 1.04\n",
    "    number_of_employee = 0\n",
    "    \n",
    "    def __init__(self,first,last,salary):\n",
    "        self.first  = first\n",
    "        self.last   = last\n",
    "        self.salary = salary\n",
    "        self.email  = first.lower() + last.lower() + '1001.@gmail.com'\n",
    "        \n",
    "        Employee.number_of_employee +=1 \n",
    "        \n",
    "    def fullname(self):\n",
    "        return '{} {}'.format(self.first,self.last)\n",
    "    \n",
    "    def apply_raise(self):\n",
    "        return int(self.salary * Employee.raise_amount)\n",
    "    \n",
    "    def set_raise_amount(cls, amount):\n",
    "        cls.raise_amount = amount"
   ]
  },
  {
   "cell_type": "code",
   "execution_count": 12,
   "id": "a8c35470",
   "metadata": {},
   "outputs": [],
   "source": [
    "emp1 = Employee('Arjun','appu',65000)\n",
    "emp2 = Employee('Micheal','jackson',45000)\n",
    "emp3 = Employee('Mia','khalifa',21000)"
   ]
  },
  {
   "cell_type": "code",
   "execution_count": null,
   "id": "c7687ebf",
   "metadata": {},
   "outputs": [],
   "source": []
  },
  {
   "cell_type": "code",
   "execution_count": null,
   "id": "26138d46",
   "metadata": {},
   "outputs": [],
   "source": []
  },
  {
   "cell_type": "code",
   "execution_count": 4,
   "id": "3e3c7a5f",
   "metadata": {},
   "outputs": [
    {
     "name": "stdout",
     "output_type": "stream",
     "text": [
      "My name is  Arjun Khan\n",
      "Inside function1\n"
     ]
    }
   ],
   "source": [
    "class MyClass:\n",
    "    Name = 'Arjun Khan'\n",
    "    def __init__(self):\n",
    "        pass\n",
    "\n",
    "    def function1(self):\n",
    "        print(\"Inside function1\")\n",
    "        \n",
    "    def function2(self):\n",
    "        print(\"My name is \",str(MyClass.Name))\n",
    "        self.function1()  # Calling function1 from within function2\n",
    "\n",
    "# Create an instance of MyClass\n",
    "my_instance = MyClass()\n",
    "\n",
    "# Call function2\n",
    "my_instance.function2()"
   ]
  },
  {
   "cell_type": "code",
   "execution_count": null,
   "id": "5a16109e",
   "metadata": {},
   "outputs": [],
   "source": []
  }
 ],
 "metadata": {
  "kernelspec": {
   "display_name": "Python 3 (ipykernel)",
   "language": "python",
   "name": "python3"
  },
  "language_info": {
   "codemirror_mode": {
    "name": "ipython",
    "version": 3
   },
   "file_extension": ".py",
   "mimetype": "text/x-python",
   "name": "python",
   "nbconvert_exporter": "python",
   "pygments_lexer": "ipython3",
   "version": "3.9.13"
  }
 },
 "nbformat": 4,
 "nbformat_minor": 5
}
