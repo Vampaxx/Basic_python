{
 "cells": [
  {
   "cell_type": "code",
   "execution_count": 3,
   "id": "e45617b3",
   "metadata": {},
   "outputs": [],
   "source": [
    "class A:\n",
    "    def feature_1(self):\n",
    "        print('feature 1 working')\n",
    "    def feature_2(self):\n",
    "        print('feature 2 working')\n",
    "              \n",
    "class B:\n",
    "    def feature_3(self):\n",
    "        print('feature 3 working')\n",
    "    def feature_4(self):\n",
    "        print('feature 4 working') "
   ]
  },
  {
   "cell_type": "code",
   "execution_count": 6,
   "id": "c3f9aa75",
   "metadata": {},
   "outputs": [
    {
     "name": "stdout",
     "output_type": "stream",
     "text": [
      "feature 1 working\n",
      "feature 2 working\n"
     ]
    }
   ],
   "source": [
    "a1 = A()\n",
    "a1.feature_1()\n",
    "a1.feature_2()"
   ]
  },
  {
   "cell_type": "code",
   "execution_count": 7,
   "id": "c421ff71",
   "metadata": {},
   "outputs": [
    {
     "name": "stdout",
     "output_type": "stream",
     "text": [
      "feature 3 working\n",
      "feature 4 working\n"
     ]
    }
   ],
   "source": [
    "b1 = B()\n",
    "b1.feature_3()\n",
    "b1.feature_4()"
   ]
  },
  {
   "cell_type": "code",
   "execution_count": 16,
   "id": "83968f33",
   "metadata": {},
   "outputs": [],
   "source": [
    "class C:\n",
    "    def feature_1(self):\n",
    "        print('feature 1 working')\n",
    "    def feature_2(self):\n",
    "        print('feature 2 working')\n",
    "              \n",
    "class D(C): # Class B inheritance the class A\n",
    "    def feature_3(self):\n",
    "        print('feature 3 working')\n",
    "    def feature_4(self):\n",
    "        print('feature 4 working')"
   ]
  },
  {
   "cell_type": "code",
   "execution_count": 17,
   "id": "5a237e70",
   "metadata": {},
   "outputs": [
    {
     "name": "stdout",
     "output_type": "stream",
     "text": [
      "feature 1 working\n",
      "feature 3 working\n",
      "feature 2 working\n"
     ]
    }
   ],
   "source": [
    "b2 = D()\n",
    "b2.feature_1()\n",
    "b2.feature_3()\n",
    "b2.feature_2()\n",
    "# we can access the class A's functions"
   ]
  },
  {
   "cell_type": "markdown",
   "id": "bdc5d8ce",
   "metadata": {},
   "source": [
    "## Multi Level inheritance"
   ]
  },
  {
   "cell_type": "code",
   "execution_count": 19,
   "id": "983ce813",
   "metadata": {},
   "outputs": [],
   "source": [
    "class E(D):\n",
    "    def feature_5(self):\n",
    "        print('feature 5 working')   "
   ]
  },
  {
   "cell_type": "code",
   "execution_count": 20,
   "id": "801b6a69",
   "metadata": {},
   "outputs": [
    {
     "name": "stdout",
     "output_type": "stream",
     "text": [
      "feature 5 working\n"
     ]
    }
   ],
   "source": [
    "b3 = E()\n",
    "b3.feature_5()"
   ]
  },
  {
   "cell_type": "code",
   "execution_count": null,
   "id": "e2953477",
   "metadata": {},
   "outputs": [],
   "source": []
  }
 ],
 "metadata": {
  "kernelspec": {
   "display_name": "Python 3 (ipykernel)",
   "language": "python",
   "name": "python3"
  },
  "language_info": {
   "codemirror_mode": {
    "name": "ipython",
    "version": 3
   },
   "file_extension": ".py",
   "mimetype": "text/x-python",
   "name": "python",
   "nbconvert_exporter": "python",
   "pygments_lexer": "ipython3",
   "version": "3.9.13"
  }
 },
 "nbformat": 4,
 "nbformat_minor": 5
}
