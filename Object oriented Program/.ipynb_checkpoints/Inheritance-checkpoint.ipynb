{
 "cells": [
  {
   "cell_type": "code",
   "execution_count": 53,
   "id": "fa108403",
   "metadata": {},
   "outputs": [],
   "source": [
    "class person():\n",
    "    \n",
    "    # the method that run as soon as you create class: Initialise\n",
    "    def __init__(self, names,ages, places):\n",
    "        self.name = names\n",
    "        self.age = ages\n",
    "        self.place = places\n",
    "    \n",
    "    # Date of birth method\n",
    "    def date_of_birth(self):\n",
    "        return 2022-self.age\n",
    "    \n",
    "    # create birth place\n",
    "    def birth_place(self):\n",
    "        BOP = print('Birth place is {}'.format(self.place))\n",
    "        return BOP\n",
    "    \n",
    "    # project the age \n",
    "    def project_age(self, years= 5):\n",
    "        return self.age + years\n",
    "    \n",
    "    "
   ]
  },
  {
   "cell_type": "code",
   "execution_count": 54,
   "id": "610ef299",
   "metadata": {},
   "outputs": [],
   "source": [
    "new_person = person('Arjun', 25, 'pariyaram')"
   ]
  },
  {
   "cell_type": "code",
   "execution_count": 39,
   "id": "be32215f",
   "metadata": {},
   "outputs": [
    {
     "data": {
      "text/plain": [
       "25"
      ]
     },
     "execution_count": 39,
     "metadata": {},
     "output_type": "execute_result"
    }
   ],
   "source": [
    "# Accesing the class attributes\n",
    "new_person.age"
   ]
  },
  {
   "cell_type": "code",
   "execution_count": 40,
   "id": "2513f23e",
   "metadata": {},
   "outputs": [
    {
     "data": {
      "text/plain": [
       "1997"
      ]
     },
     "execution_count": 40,
     "metadata": {},
     "output_type": "execute_result"
    }
   ],
   "source": [
    "# Run a method\n",
    "new_person.date_of_birth()"
   ]
  },
  {
   "cell_type": "code",
   "execution_count": 52,
   "id": "936a7c3d",
   "metadata": {
    "scrolled": true
   },
   "outputs": [
    {
     "name": "stdout",
     "output_type": "stream",
     "text": [
      "Birth place is pariyaram\n"
     ]
    }
   ],
   "source": [
    "new_person.birth_place()"
   ]
  },
  {
   "cell_type": "code",
   "execution_count": 58,
   "id": "99a1ebc0",
   "metadata": {},
   "outputs": [
    {
     "data": {
      "text/plain": [
       "30"
      ]
     },
     "execution_count": 58,
     "metadata": {},
     "output_type": "execute_result"
    }
   ],
   "source": [
    "new_person.project_age()"
   ]
  },
  {
   "cell_type": "markdown",
   "id": "b1955215",
   "metadata": {},
   "source": [
    "# Inheritance"
   ]
  },
  {
   "cell_type": "markdown",
   "id": "ec10ca64",
   "metadata": {},
   "source": [
    "- parent is the class passing down  attributes and methods----Person\n",
    "- child is the class inheriting the method and attributes ---- Astronaut"
   ]
  },
  {
   "cell_type": "code",
   "execution_count": 68,
   "id": "03606f28",
   "metadata": {},
   "outputs": [],
   "source": [
    "# Create a child class\n",
    "class Astronaut(person):\n",
    "    # Define  initialization function\n",
    "    def __init__(self,name, age, place, job,job_duration):\n",
    "        # this give us what gives us inheriitance\n",
    "        super().__init__(name, age,place)\n",
    "        self.job = job\n",
    "        self.duration = jo_duration\n",
    "    def age_on_return(self):\n",
    "        return self.project_age(self.job_duration)"
   ]
  },
  {
   "cell_type": "code",
   "execution_count": 62,
   "id": "20c162cf",
   "metadata": {},
   "outputs": [],
   "source": [
    "new_job = Astronaut('Manoj',50,'Kannure','Data_scientist', 45000)"
   ]
  },
  {
   "cell_type": "code",
   "execution_count": 65,
   "id": "8cb51d28",
   "metadata": {},
   "outputs": [
    {
     "data": {
      "text/plain": [
       "1972"
      ]
     },
     "execution_count": 65,
     "metadata": {},
     "output_type": "execute_result"
    }
   ],
   "source": [
    "new_job.date_of_birth()"
   ]
  },
  {
   "cell_type": "code",
   "execution_count": 66,
   "id": "ea7dbc41",
   "metadata": {},
   "outputs": [
    {
     "data": {
      "text/plain": [
       "55"
      ]
     },
     "execution_count": 66,
     "metadata": {},
     "output_type": "execute_result"
    }
   ],
   "source": [
    "new_job.project_age()"
   ]
  },
  {
   "cell_type": "code",
   "execution_count": null,
   "id": "8666eaee",
   "metadata": {},
   "outputs": [],
   "source": []
  }
 ],
 "metadata": {
  "kernelspec": {
   "display_name": "Python 3 (ipykernel)",
   "language": "python",
   "name": "python3"
  },
  "language_info": {
   "codemirror_mode": {
    "name": "ipython",
    "version": 3
   },
   "file_extension": ".py",
   "mimetype": "text/x-python",
   "name": "python",
   "nbconvert_exporter": "python",
   "pygments_lexer": "ipython3",
   "version": "3.9.13"
  }
 },
 "nbformat": 4,
 "nbformat_minor": 5
}
