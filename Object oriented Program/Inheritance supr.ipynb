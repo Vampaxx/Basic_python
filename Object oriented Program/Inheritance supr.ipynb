{
 "cells": [
  {
   "cell_type": "code",
   "execution_count": 1,
   "id": "6f0eb77f",
   "metadata": {},
   "outputs": [],
   "source": [
    "class parent:\n",
    "    def __init__(self):\n",
    "        print('this is from parent class')"
   ]
  },
  {
   "cell_type": "code",
   "execution_count": 3,
   "id": "5f298a4b",
   "metadata": {},
   "outputs": [],
   "source": [
    "class child(parent):\n",
    "    \n",
    "    pass"
   ]
  },
  {
   "cell_type": "code",
   "execution_count": 5,
   "id": "1a3d43c0",
   "metadata": {},
   "outputs": [
    {
     "name": "stdout",
     "output_type": "stream",
     "text": [
      "this is from parent class\n"
     ]
    }
   ],
   "source": [
    "c1  = child()"
   ]
  },
  {
   "cell_type": "code",
   "execution_count": 6,
   "id": "5595b29b",
   "metadata": {},
   "outputs": [
    {
     "name": "stdout",
     "output_type": "stream",
     "text": [
      "this is from parent class\n"
     ]
    }
   ],
   "source": [
    "c2 = parent()"
   ]
  },
  {
   "cell_type": "code",
   "execution_count": 13,
   "id": "b1e3c5bf",
   "metadata": {},
   "outputs": [],
   "source": [
    "class child1(parent):\n",
    "    def __init__(self):\n",
    "        print('this is from child class')"
   ]
  },
  {
   "cell_type": "code",
   "execution_count": 14,
   "id": "4789d5de",
   "metadata": {},
   "outputs": [
    {
     "name": "stdout",
     "output_type": "stream",
     "text": [
      "this is from child class\n"
     ]
    }
   ],
   "source": [
    "c3 = child1()"
   ]
  },
  {
   "cell_type": "code",
   "execution_count": 15,
   "id": "d826506c",
   "metadata": {},
   "outputs": [],
   "source": [
    "## if you want access both parent and chil __init__, then we use super().__init__\n",
    "\n",
    "class child1(parent):\n",
    "    def __init__(self):\n",
    "        print('this is from child class')\n",
    "        super().__init__()"
   ]
  },
  {
   "cell_type": "code",
   "execution_count": 17,
   "id": "8667315a",
   "metadata": {},
   "outputs": [
    {
     "name": "stdout",
     "output_type": "stream",
     "text": [
      "this is from child class\n",
      "this is from parent class\n"
     ]
    }
   ],
   "source": [
    "c5 = child1()"
   ]
  },
  {
   "cell_type": "code",
   "execution_count": null,
   "id": "bd183876",
   "metadata": {},
   "outputs": [],
   "source": []
  },
  {
   "cell_type": "code",
   "execution_count": null,
   "id": "f818d61a",
   "metadata": {},
   "outputs": [],
   "source": []
  },
  {
   "cell_type": "code",
   "execution_count": 20,
   "id": "a811ce8e",
   "metadata": {},
   "outputs": [],
   "source": [
    "class Rectangle:\n",
    "    def __init__(self,breadth,lenght):\n",
    "        self.breadth = breadth\n",
    "        self.lenght = lenght\n",
    "        \n",
    "    def area(self):\n",
    "        return self.breadth * self.lenght"
   ]
  },
  {
   "cell_type": "code",
   "execution_count": 22,
   "id": "8812f46e",
   "metadata": {},
   "outputs": [],
   "source": [
    "rec_area =  Rectangle(5,4)"
   ]
  },
  {
   "cell_type": "code",
   "execution_count": 25,
   "id": "bac9446d",
   "metadata": {},
   "outputs": [
    {
     "data": {
      "text/plain": [
       "20"
      ]
     },
     "execution_count": 25,
     "metadata": {},
     "output_type": "execute_result"
    }
   ],
   "source": [
    "rec_area.area()"
   ]
  },
  {
   "cell_type": "code",
   "execution_count": 26,
   "id": "d9bb37ae",
   "metadata": {},
   "outputs": [],
   "source": [
    "import matplotlib.pyplot as plt \n",
    "import seaborn as sns"
   ]
  },
  {
   "cell_type": "code",
   "execution_count": null,
   "id": "c717e6d9",
   "metadata": {},
   "outputs": [],
   "source": [
    "sns.barplot()"
   ]
  }
 ],
 "metadata": {
  "kernelspec": {
   "display_name": "Python 3 (ipykernel)",
   "language": "python",
   "name": "python3"
  },
  "language_info": {
   "codemirror_mode": {
    "name": "ipython",
    "version": 3
   },
   "file_extension": ".py",
   "mimetype": "text/x-python",
   "name": "python",
   "nbconvert_exporter": "python",
   "pygments_lexer": "ipython3",
   "version": "3.9.13"
  }
 },
 "nbformat": 4,
 "nbformat_minor": 5
}
