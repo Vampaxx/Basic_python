{
 "cells": [
  {
   "cell_type": "code",
   "execution_count": 23,
   "id": "b30dca7b",
   "metadata": {},
   "outputs": [],
   "source": [
    "import numpy as np"
   ]
  },
  {
   "cell_type": "code",
   "execution_count": 24,
   "id": "b8203afd",
   "metadata": {},
   "outputs": [],
   "source": [
    "## Attributes = variable inside the class \n",
    "\n",
    "## Methods = function inside the class"
   ]
  },
  {
   "cell_type": "code",
   "execution_count": 32,
   "id": "a7cc8112",
   "metadata": {},
   "outputs": [],
   "source": [
    "class book:\n",
    "    def read(self):\n",
    "        print('reading the books')\n",
    "        \n",
    "    def story(self):\n",
    "        print('Alavudin and lamp')"
   ]
  },
  {
   "cell_type": "code",
   "execution_count": 33,
   "id": "9cb5f48c",
   "metadata": {},
   "outputs": [],
   "source": [
    "book1 = book()"
   ]
  },
  {
   "cell_type": "code",
   "execution_count": 34,
   "id": "00e13de7",
   "metadata": {},
   "outputs": [
    {
     "name": "stdout",
     "output_type": "stream",
     "text": [
      "reading the books\n"
     ]
    }
   ],
   "source": [
    "book1.read()"
   ]
  },
  {
   "cell_type": "code",
   "execution_count": 35,
   "id": "6dd30ef6",
   "metadata": {},
   "outputs": [
    {
     "name": "stdout",
     "output_type": "stream",
     "text": [
      "Alavudin and lamp\n"
     ]
    }
   ],
   "source": [
    "book1.story()"
   ]
  },
  {
   "cell_type": "code",
   "execution_count": 38,
   "id": "1966f4f4",
   "metadata": {},
   "outputs": [],
   "source": [
    "class marvel:\n",
    "    \n",
    "    def __init__(self):\n",
    "        print('Comic book characters')\n",
    "    def avenger(self):\n",
    "        print('avengers assemble')\n",
    "    "
   ]
  },
  {
   "cell_type": "code",
   "execution_count": 43,
   "id": "d9bec30b",
   "metadata": {},
   "outputs": [
    {
     "name": "stdout",
     "output_type": "stream",
     "text": [
      "Comic book characters\n"
     ]
    }
   ],
   "source": [
    "marvel_comic = marvel()"
   ]
  },
  {
   "cell_type": "code",
   "execution_count": 45,
   "id": "fc3e7c2b",
   "metadata": {},
   "outputs": [
    {
     "data": {
      "text/plain": [
       "<__main__.marvel at 0x250b3f22880>"
      ]
     },
     "execution_count": 45,
     "metadata": {},
     "output_type": "execute_result"
    }
   ],
   "source": [
    "marvel_comic"
   ]
  },
  {
   "cell_type": "code",
   "execution_count": 46,
   "id": "f96422a4",
   "metadata": {},
   "outputs": [
    {
     "name": "stdout",
     "output_type": "stream",
     "text": [
      "avengers assemble\n"
     ]
    }
   ],
   "source": [
    "marvel_comic.avenger()"
   ]
  },
  {
   "cell_type": "code",
   "execution_count": 48,
   "id": "5176e4a3",
   "metadata": {},
   "outputs": [],
   "source": [
    "class marvel:\n",
    "    def __init__(self,character, super_power):\n",
    "        self.character = character\n",
    "        self.super_power = super_power\n",
    "        "
   ]
  },
  {
   "cell_type": "code",
   "execution_count": 51,
   "id": "8f38a2f9",
   "metadata": {},
   "outputs": [],
   "source": [
    "marvel_comic = marvel('iron_man','arc_reactor')"
   ]
  },
  {
   "cell_type": "code",
   "execution_count": 54,
   "id": "ca42bd12",
   "metadata": {},
   "outputs": [
    {
     "data": {
      "text/plain": [
       "'iron_man'"
      ]
     },
     "execution_count": 54,
     "metadata": {},
     "output_type": "execute_result"
    }
   ],
   "source": [
    "marvel_comic.character"
   ]
  },
  {
   "cell_type": "code",
   "execution_count": 55,
   "id": "f2b9f403",
   "metadata": {},
   "outputs": [
    {
     "data": {
      "text/plain": [
       "'arc_reactor'"
      ]
     },
     "execution_count": 55,
     "metadata": {},
     "output_type": "execute_result"
    }
   ],
   "source": [
    "marvel_comic.super_power"
   ]
  },
  {
   "cell_type": "code",
   "execution_count": 57,
   "id": "7ff75897",
   "metadata": {},
   "outputs": [],
   "source": [
    "class marvel:\n",
    "    \n",
    "    # class variable (static variables)\n",
    "    author = 'stan_lee' ## common to all function inside the class\n",
    "    \n",
    "    # instance variables\n",
    "    def __init__(self,character, super_power):\n",
    "        self.character = character\n",
    "        self.super_power = super_power"
   ]
  },
  {
   "cell_type": "code",
   "execution_count": 59,
   "id": "0032e004",
   "metadata": {},
   "outputs": [],
   "source": [
    "marvel_comic1 = marvel('iron_man', 'arc_reactor')\n",
    "marvel_comic2 = marvel('thor','mjolnir')"
   ]
  },
  {
   "cell_type": "code",
   "execution_count": 60,
   "id": "844c9fe3",
   "metadata": {},
   "outputs": [
    {
     "data": {
      "text/plain": [
       "'stan_lee'"
      ]
     },
     "execution_count": 60,
     "metadata": {},
     "output_type": "execute_result"
    }
   ],
   "source": [
    "marvel_comic1.author"
   ]
  },
  {
   "cell_type": "code",
   "execution_count": 61,
   "id": "f804313d",
   "metadata": {},
   "outputs": [
    {
     "data": {
      "text/plain": [
       "'stan_lee'"
      ]
     },
     "execution_count": 61,
     "metadata": {},
     "output_type": "execute_result"
    }
   ],
   "source": [
    "marvel_comic2.author"
   ]
  },
  {
   "cell_type": "code",
   "execution_count": 62,
   "id": "efe4fc22",
   "metadata": {},
   "outputs": [],
   "source": [
    "## stan_lee is common author to all marvel_comics"
   ]
  },
  {
   "cell_type": "code",
   "execution_count": null,
   "id": "655753d4",
   "metadata": {},
   "outputs": [],
   "source": []
  },
  {
   "cell_type": "code",
   "execution_count": null,
   "id": "d5185e30",
   "metadata": {},
   "outputs": [],
   "source": []
  }
 ],
 "metadata": {
  "kernelspec": {
   "display_name": "Python 3 (ipykernel)",
   "language": "python",
   "name": "python3"
  },
  "language_info": {
   "codemirror_mode": {
    "name": "ipython",
    "version": 3
   },
   "file_extension": ".py",
   "mimetype": "text/x-python",
   "name": "python",
   "nbconvert_exporter": "python",
   "pygments_lexer": "ipython3",
   "version": "3.9.13"
  }
 },
 "nbformat": 4,
 "nbformat_minor": 5
}
