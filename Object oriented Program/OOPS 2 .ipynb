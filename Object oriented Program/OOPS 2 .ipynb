{
 "cells": [
  {
   "cell_type": "code",
   "execution_count": 1,
   "id": "4a59567e",
   "metadata": {},
   "outputs": [],
   "source": [
    "## types of methods \n",
    "\n",
    "# 1. Instance methods \n",
    "# 2. class methods\n",
    "# 3. static methods"
   ]
  },
  {
   "cell_type": "code",
   "execution_count": 10,
   "id": "ce152b5a",
   "metadata": {},
   "outputs": [],
   "source": [
    "class marvel:\n",
    "    \n",
    "    def __init__(self,character, super_power, weapon, fight = False):\n",
    "        self.character = character\n",
    "        self.super_power = super_power\n",
    "        self.weapon = weapon\n",
    "        self.fight = fight\n",
    "        \n",
    "    def character_info(self): # get methods or getter\n",
    "        print(f'charactor_name : {self.character}\\n weapon: {self.weapon}\\n super_power: {self.super_power}')\n",
    "        \n",
    "    def fight_enable(self): # set method or setter\n",
    "        self.fight = True\n",
    "        print('He is ready for fight')\n",
    "        \n",
    "    "
   ]
  },
  {
   "cell_type": "code",
   "execution_count": 11,
   "id": "ce255229",
   "metadata": {},
   "outputs": [],
   "source": [
    "marvel_comics1 = marvel('Iron_man', 'his_suit','Jerico')\n",
    "marvel_comics2 = marvel('captain america', 'super humon', 'sheild')\n",
    "marvel_comics3 = marvel('thor', 'lightning_power','mjolnir')"
   ]
  },
  {
   "cell_type": "code",
   "execution_count": 12,
   "id": "e54a544a",
   "metadata": {},
   "outputs": [
    {
     "name": "stdout",
     "output_type": "stream",
     "text": [
      "charactor_name : Iron_man\n",
      " weapon: Jerico\n",
      " super_power: his_suit\n"
     ]
    }
   ],
   "source": [
    "marvel_comics1.character_info()"
   ]
  },
  {
   "cell_type": "code",
   "execution_count": 13,
   "id": "7af2cecd",
   "metadata": {},
   "outputs": [
    {
     "data": {
      "text/plain": [
       "False"
      ]
     },
     "execution_count": 13,
     "metadata": {},
     "output_type": "execute_result"
    }
   ],
   "source": [
    "marvel_comics1.fight"
   ]
  },
  {
   "cell_type": "code",
   "execution_count": 15,
   "id": "05bcef7b",
   "metadata": {
    "scrolled": true
   },
   "outputs": [
    {
     "name": "stdout",
     "output_type": "stream",
     "text": [
      "He is ready for fight\n"
     ]
    }
   ],
   "source": [
    "marvel_comics1.fight_enable()\n",
    "# enable the fight "
   ]
  },
  {
   "cell_type": "code",
   "execution_count": 16,
   "id": "91281175",
   "metadata": {},
   "outputs": [
    {
     "data": {
      "text/plain": [
       "True"
      ]
     },
     "execution_count": 16,
     "metadata": {},
     "output_type": "execute_result"
    }
   ],
   "source": [
    "marvel_comics1.fight"
   ]
  },
  {
   "cell_type": "code",
   "execution_count": null,
   "id": "97f35042",
   "metadata": {},
   "outputs": [],
   "source": []
  }
 ],
 "metadata": {
  "kernelspec": {
   "display_name": "Python 3 (ipykernel)",
   "language": "python",
   "name": "python3"
  },
  "language_info": {
   "codemirror_mode": {
    "name": "ipython",
    "version": 3
   },
   "file_extension": ".py",
   "mimetype": "text/x-python",
   "name": "python",
   "nbconvert_exporter": "python",
   "pygments_lexer": "ipython3",
   "version": "3.9.13"
  }
 },
 "nbformat": 4,
 "nbformat_minor": 5
}
