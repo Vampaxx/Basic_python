{
 "cells": [
  {
   "cell_type": "code",
   "execution_count": 1,
   "id": "832838b8",
   "metadata": {},
   "outputs": [],
   "source": [
    "## class methods"
   ]
  },
  {
   "cell_type": "code",
   "execution_count": 2,
   "id": "5fcdca90",
   "metadata": {},
   "outputs": [],
   "source": [
    "class Car:\n",
    "    \n",
    "    wheels = 4 \n",
    "    \n",
    "    def get_wheel_counts(cls):\n",
    "        return cls.wheels"
   ]
  },
  {
   "cell_type": "code",
   "execution_count": 3,
   "id": "1470a452",
   "metadata": {},
   "outputs": [
    {
     "data": {
      "text/plain": [
       "4"
      ]
     },
     "execution_count": 3,
     "metadata": {},
     "output_type": "execute_result"
    }
   ],
   "source": [
    "Car.wheels"
   ]
  },
  {
   "cell_type": "code",
   "execution_count": 4,
   "id": "fcc411f3",
   "metadata": {},
   "outputs": [
    {
     "ename": "TypeError",
     "evalue": "get_wheel_counts() missing 1 required positional argument: 'cls'",
     "output_type": "error",
     "traceback": [
      "\u001b[1;31m---------------------------------------------------------------------------\u001b[0m",
      "\u001b[1;31mTypeError\u001b[0m                                 Traceback (most recent call last)",
      "\u001b[1;32m~\\AppData\\Local\\Temp\\ipykernel_16252\\1543883759.py\u001b[0m in \u001b[0;36m<module>\u001b[1;34m\u001b[0m\n\u001b[1;32m----> 1\u001b[1;33m \u001b[0mCar\u001b[0m\u001b[1;33m.\u001b[0m\u001b[0mget_wheel_counts\u001b[0m\u001b[1;33m(\u001b[0m\u001b[1;33m)\u001b[0m\u001b[1;33m\u001b[0m\u001b[1;33m\u001b[0m\u001b[0m\n\u001b[0m\u001b[0;32m      2\u001b[0m \u001b[1;31m# we cant call like this, because this is a instance methods\u001b[0m\u001b[1;33m\u001b[0m\u001b[1;33m\u001b[0m\u001b[0m\n\u001b[0;32m      3\u001b[0m \u001b[1;31m# for call Car.get_wheel_counts(), we use @classmethod,\u001b[0m\u001b[1;33m\u001b[0m\u001b[1;33m\u001b[0m\u001b[0m\n",
      "\u001b[1;31mTypeError\u001b[0m: get_wheel_counts() missing 1 required positional argument: 'cls'"
     ]
    }
   ],
   "source": [
    "Car.get_wheel_counts()\n",
    "# we cant call like this, because this is a instance methods\n",
    "# for call Car.get_wheel_counts(), we use @classmethod,"
   ]
  },
  {
   "cell_type": "code",
   "execution_count": 5,
   "id": "7a1e8a96",
   "metadata": {},
   "outputs": [],
   "source": [
    "class Car:\n",
    "    \n",
    "    wheels = 4\n",
    "    \n",
    "    @classmethod # it's a decorator\n",
    "    def get_wheel_counts(cls):\n",
    "        return cls.wheels\n",
    "        "
   ]
  },
  {
   "cell_type": "code",
   "execution_count": 6,
   "id": "b26b98a5",
   "metadata": {},
   "outputs": [
    {
     "data": {
      "text/plain": [
       "4"
      ]
     },
     "execution_count": 6,
     "metadata": {},
     "output_type": "execute_result"
    }
   ],
   "source": [
    "Car.get_wheel_counts()"
   ]
  },
  {
   "cell_type": "code",
   "execution_count": 7,
   "id": "cb0948d3",
   "metadata": {},
   "outputs": [],
   "source": [
    "class Car:\n",
    "    \n",
    "    wheels = 4\n",
    "    \n",
    "    @classmethod # it's a decorator\n",
    "    def get_wheel_counts(cls):\n",
    "        # we can change the velue of wheel by \n",
    "        cls.wheels = 8\n",
    "        return cls.wheels\n",
    "            "
   ]
  },
  {
   "cell_type": "code",
   "execution_count": 8,
   "id": "1a509c8f",
   "metadata": {},
   "outputs": [
    {
     "data": {
      "text/plain": [
       "8"
      ]
     },
     "execution_count": 8,
     "metadata": {},
     "output_type": "execute_result"
    }
   ],
   "source": [
    "Car.get_wheel_counts()"
   ]
  },
  {
   "cell_type": "code",
   "execution_count": 9,
   "id": "f3eea14b",
   "metadata": {},
   "outputs": [],
   "source": [
    "## another methods\n",
    "class Car:\n",
    "    \n",
    "    wheels = 4\n",
    "    \n",
    "    def get_wheel_counts(cls):\n",
    "        return(cls.wheels+10)"
   ]
  },
  {
   "cell_type": "code",
   "execution_count": 10,
   "id": "bdce8993",
   "metadata": {},
   "outputs": [],
   "source": [
    "Car.get_wheel_counts = classmethod(Car.get_wheel_counts)"
   ]
  },
  {
   "cell_type": "code",
   "execution_count": 11,
   "id": "de6e81b4",
   "metadata": {},
   "outputs": [
    {
     "data": {
      "text/plain": [
       "14"
      ]
     },
     "execution_count": 11,
     "metadata": {},
     "output_type": "execute_result"
    }
   ],
   "source": [
    "Car.get_wheel_counts()"
   ]
  },
  {
   "cell_type": "markdown",
   "id": "ef09dd2a",
   "metadata": {},
   "source": [
    "## Example"
   ]
  },
  {
   "cell_type": "code",
   "execution_count": 12,
   "id": "1b58ccef",
   "metadata": {},
   "outputs": [],
   "source": [
    "from datetime import date"
   ]
  },
  {
   "cell_type": "code",
   "execution_count": 13,
   "id": "17a22647",
   "metadata": {},
   "outputs": [],
   "source": [
    "class pearson:\n",
    "    \n",
    "    def __init__(self,name,age):\n",
    "        self.name = name\n",
    "        self.age = age\n",
    "    \n",
    "    @classmethod\n",
    "    def year_birth(cls,name,year,experience):\n",
    "        return cls(name, date.today().year-year)\n",
    "    \n",
    "    @staticmethod\n",
    "    def isadult(age):\n",
    "        return age>18\n",
    "\n",
    "    "
   ]
  },
  {
   "cell_type": "code",
   "execution_count": 14,
   "id": "217fb72b",
   "metadata": {},
   "outputs": [],
   "source": [
    "pearson1 = pearson('Micheal jackson', 51)\n",
    "pearson2 = pearson('Arjun', 25)"
   ]
  },
  {
   "cell_type": "code",
   "execution_count": 15,
   "id": "2fc84996",
   "metadata": {},
   "outputs": [
    {
     "name": "stdout",
     "output_type": "stream",
     "text": [
      "Micheal jackson\n",
      "Arjun\n"
     ]
    }
   ],
   "source": [
    "print(pearson1.name)\n",
    "print(pearson2.name)"
   ]
  },
  {
   "cell_type": "code",
   "execution_count": 20,
   "id": "bf10b6a5",
   "metadata": {},
   "outputs": [],
   "source": [
    "class field:\n",
    "    \n",
    "    def __init__(self,industry,age,debut_year):\n",
    "        self.industry = industry\n",
    "        self.age = age\n",
    "        self.debut_year = debut_year\n",
    "    \n",
    "    @classmethod\n",
    "    def year_of_experience(cls,actor_name,date_of_year,experience):\n",
    "        return cls(actor_name, date.today().year-date_of_year, date.today().year - experience)\n",
    "    \n",
    "    @staticmethod\n",
    "    def eligible_for_award(experience):\n",
    "        if experience >10:\n",
    "            print('he or she eligible for life acheivement award')\n",
    "    "
   ]
  },
  {
   "cell_type": "code",
   "execution_count": 21,
   "id": "2ddcbf17",
   "metadata": {},
   "outputs": [],
   "source": [
    "industry1 = field('movie', 60,1963 )\n",
    "industry2 = field('singing', 23,2020)"
   ]
  },
  {
   "cell_type": "code",
   "execution_count": 22,
   "id": "5320cfc7",
   "metadata": {},
   "outputs": [],
   "source": [
    "mohanlal = industry1.year_of_experience('movie',1960,25)\n",
    "micheal_jackson = industry2.year_of_experience('singing/dancing',1955,50)"
   ]
  },
  {
   "cell_type": "code",
   "execution_count": 23,
   "id": "0207a92d",
   "metadata": {},
   "outputs": [
    {
     "data": {
      "text/plain": [
       "63"
      ]
     },
     "execution_count": 23,
     "metadata": {},
     "output_type": "execute_result"
    }
   ],
   "source": [
    "mohanlal.age"
   ]
  },
  {
   "cell_type": "code",
   "execution_count": 24,
   "id": "9a7f3f03",
   "metadata": {},
   "outputs": [
    {
     "data": {
      "text/plain": [
       "1998"
      ]
     },
     "execution_count": 24,
     "metadata": {},
     "output_type": "execute_result"
    }
   ],
   "source": [
    "mohanlal.debut_year"
   ]
  },
  {
   "cell_type": "code",
   "execution_count": 25,
   "id": "7367512c",
   "metadata": {},
   "outputs": [
    {
     "data": {
      "text/plain": [
       "'movie'"
      ]
     },
     "execution_count": 25,
     "metadata": {},
     "output_type": "execute_result"
    }
   ],
   "source": [
    "mohanlal.industry"
   ]
  },
  {
   "cell_type": "code",
   "execution_count": 26,
   "id": "f77a04b9",
   "metadata": {},
   "outputs": [
    {
     "data": {
      "text/plain": [
       "68"
      ]
     },
     "execution_count": 26,
     "metadata": {},
     "output_type": "execute_result"
    }
   ],
   "source": [
    "micheal_jackson.age"
   ]
  },
  {
   "cell_type": "code",
   "execution_count": 27,
   "id": "751ee153",
   "metadata": {},
   "outputs": [
    {
     "data": {
      "text/plain": [
       "'singing/dancing'"
      ]
     },
     "execution_count": 27,
     "metadata": {},
     "output_type": "execute_result"
    }
   ],
   "source": [
    "micheal_jackson.industry"
   ]
  },
  {
   "cell_type": "code",
   "execution_count": 28,
   "id": "ac629090",
   "metadata": {},
   "outputs": [
    {
     "name": "stdout",
     "output_type": "stream",
     "text": [
      "he or she eligible for life acheivement award\n"
     ]
    }
   ],
   "source": [
    "micheal_jackson.eligible_for_award(micheal_jackson.age)"
   ]
  },
  {
   "cell_type": "code",
   "execution_count": null,
   "id": "dcef41b6",
   "metadata": {},
   "outputs": [],
   "source": []
  },
  {
   "cell_type": "code",
   "execution_count": 29,
   "id": "1ac6bc0f",
   "metadata": {},
   "outputs": [],
   "source": [
    "import time"
   ]
  },
  {
   "cell_type": "code",
   "execution_count": null,
   "id": "cc88a93e",
   "metadata": {},
   "outputs": [],
   "source": []
  }
 ],
 "metadata": {
  "kernelspec": {
   "display_name": "Python 3 (ipykernel)",
   "language": "python",
   "name": "python3"
  },
  "language_info": {
   "codemirror_mode": {
    "name": "ipython",
    "version": 3
   },
   "file_extension": ".py",
   "mimetype": "text/x-python",
   "name": "python",
   "nbconvert_exporter": "python",
   "pygments_lexer": "ipython3",
   "version": "3.9.13"
  }
 },
 "nbformat": 4,
 "nbformat_minor": 5
}
