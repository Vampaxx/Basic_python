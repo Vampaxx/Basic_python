{
 "cells": [
  {
   "cell_type": "code",
   "execution_count": 21,
   "id": "4ac825be",
   "metadata": {},
   "outputs": [],
   "source": [
    "import numpy as np"
   ]
  },
  {
   "cell_type": "code",
   "execution_count": 47,
   "id": "5220a758",
   "metadata": {},
   "outputs": [],
   "source": [
    "class MyList:\n",
    "    def __init__(self, data):\n",
    "        self.data = data\n",
    "        \n",
    "    def __len__(self):\n",
    "        return len(self.data)\n",
    "\n",
    "my_list = MyList([12,3,3,5,4,4])\n"
   ]
  },
  {
   "cell_type": "code",
   "execution_count": 48,
   "id": "e1b49506",
   "metadata": {
    "scrolled": true
   },
   "outputs": [
    {
     "name": "stdout",
     "output_type": "stream",
     "text": [
      "6\n"
     ]
    }
   ],
   "source": [
    "print(len(my_list))"
   ]
  },
  {
   "cell_type": "code",
   "execution_count": 60,
   "id": "07641571",
   "metadata": {},
   "outputs": [],
   "source": [
    "class d:\n",
    "    def __init__(self,age,place):\n",
    "        self.age   = age\n",
    "        self.place = place\n",
    "    \n",
    "    def __len__(self):\n",
    "        return len(self.age)"
   ]
  },
  {
   "cell_type": "code",
   "execution_count": 61,
   "id": "8a7e1f18",
   "metadata": {},
   "outputs": [
    {
     "data": {
      "text/plain": [
       "2"
      ]
     },
     "execution_count": 61,
     "metadata": {},
     "output_type": "execute_result"
    }
   ],
   "source": [
    "a = d([36,54],'kannur')\n",
    "len(a)"
   ]
  },
  {
   "cell_type": "code",
   "execution_count": 62,
   "id": "40457a9e",
   "metadata": {},
   "outputs": [
    {
     "name": "stdout",
     "output_type": "stream",
     "text": [
      "2\n"
     ]
    }
   ],
   "source": [
    "class MyList:\n",
    "    def __init__(self, data):\n",
    "        self.data = data\n",
    "        \n",
    "    def __len__(self):\n",
    "        return len(self.data)\n",
    "\n",
    "# Example usage:\n",
    "my_list = MyList([[1, 2, 3, 4, 5, 6], [1, 2, 3, 4, 5, 6]])\n",
    "print(len(my_list))"
   ]
  },
  {
   "cell_type": "code",
   "execution_count": null,
   "id": "b73bbfab",
   "metadata": {},
   "outputs": [],
   "source": []
  }
 ],
 "metadata": {
  "kernelspec": {
   "display_name": "Python 3 (ipykernel)",
   "language": "python",
   "name": "python3"
  },
  "language_info": {
   "codemirror_mode": {
    "name": "ipython",
    "version": 3
   },
   "file_extension": ".py",
   "mimetype": "text/x-python",
   "name": "python",
   "nbconvert_exporter": "python",
   "pygments_lexer": "ipython3",
   "version": "3.9.13"
  }
 },
 "nbformat": 4,
 "nbformat_minor": 5
}
