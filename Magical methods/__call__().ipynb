{
 "cells": [
  {
   "cell_type": "code",
   "execution_count": 1,
   "id": "852986bd",
   "metadata": {},
   "outputs": [],
   "source": [
    "class MatheMatics:\n",
    "    \n",
    "    def __init__(self,x,y):\n",
    "        self.x = x\n",
    "        self.y = y\n",
    "        print(f'x is {self.x} ; y is {self.y}')\n",
    "    def product(self):\n",
    "        print(f'Product of x and y is {self.x * self.y}')"
   ]
  },
  {
   "cell_type": "code",
   "execution_count": 2,
   "id": "bec78687",
   "metadata": {},
   "outputs": [
    {
     "name": "stdout",
     "output_type": "stream",
     "text": [
      "x is 5 ; y is 3\n"
     ]
    }
   ],
   "source": [
    "math = MatheMatics(5,3)"
   ]
  },
  {
   "cell_type": "code",
   "execution_count": 3,
   "id": "f5ef940d",
   "metadata": {},
   "outputs": [
    {
     "name": "stdout",
     "output_type": "stream",
     "text": [
      "Product of x and y is 15\n"
     ]
    }
   ],
   "source": [
    "math.product()"
   ]
  },
  {
   "cell_type": "code",
   "execution_count": 4,
   "id": "ac2d2de9",
   "metadata": {
    "scrolled": true
   },
   "outputs": [
    {
     "ename": "TypeError",
     "evalue": "'MatheMatics' object is not callable",
     "output_type": "error",
     "traceback": [
      "\u001b[1;31m---------------------------------------------------------------------------\u001b[0m",
      "\u001b[1;31mTypeError\u001b[0m                                 Traceback (most recent call last)",
      "\u001b[1;32m~\\AppData\\Local\\Temp\\ipykernel_26936\\3653023939.py\u001b[0m in \u001b[0;36m<module>\u001b[1;34m\u001b[0m\n\u001b[1;32m----> 1\u001b[1;33m \u001b[0mmath\u001b[0m\u001b[1;33m(\u001b[0m\u001b[1;33m)\u001b[0m\u001b[1;33m\u001b[0m\u001b[1;33m\u001b[0m\u001b[0m\n\u001b[0m\u001b[0;32m      2\u001b[0m \u001b[1;31m## Will get a typeerror\u001b[0m\u001b[1;33m\u001b[0m\u001b[1;33m\u001b[0m\u001b[0m\n",
      "\u001b[1;31mTypeError\u001b[0m: 'MatheMatics' object is not callable"
     ]
    }
   ],
   "source": [
    "math()\n",
    "## Will get a typeerror"
   ]
  },
  {
   "cell_type": "markdown",
   "id": "5a2bfeb4",
   "metadata": {},
   "source": [
    "By use __call__() inside the class so that 'MatheMatics' class can behave like a FUNCTION\n",
    "\n",
    "Unlike above, math() will not get TypeError"
   ]
  },
  {
   "cell_type": "code",
   "execution_count": 5,
   "id": "17e69a26",
   "metadata": {},
   "outputs": [],
   "source": [
    "class MatheMatics:\n",
    "    \n",
    "    def __init__(self,x,y):\n",
    "        self.x = x\n",
    "        self.y = y\n",
    "        print(f'x is {self.x} ; y is {self.y}')\n",
    "        \n",
    "    def product(self):\n",
    "        print(f'Product of x and y is {self.x * self.y}')\n",
    "        \n",
    "    def __call__(self):\n",
    "        print(f'Product of x and y is {self.x * self.y}')"
   ]
  },
  {
   "cell_type": "code",
   "execution_count": 6,
   "id": "17a8fea1",
   "metadata": {},
   "outputs": [
    {
     "name": "stdout",
     "output_type": "stream",
     "text": [
      "x is 20 ; y is 5\n",
      "Product of x and y is 100\n"
     ]
    }
   ],
   "source": [
    "math = MatheMatics(20,5)\n",
    "math()"
   ]
  },
  {
   "cell_type": "code",
   "execution_count": 7,
   "id": "c0c3bb4f",
   "metadata": {},
   "outputs": [
    {
     "name": "stdout",
     "output_type": "stream",
     "text": [
      "Product of x and y is 100\n"
     ]
    }
   ],
   "source": [
    "# this method also working\n",
    "math.__call__()"
   ]
  },
  {
   "cell_type": "code",
   "execution_count": 8,
   "id": "d09d4ceb",
   "metadata": {},
   "outputs": [],
   "source": [
    "class MatheMatics:\n",
    "    \n",
    "    def __init__(self,x,y):\n",
    "        self.x = x\n",
    "        self.y = y\n",
    "        print(f'x is {self.x} ; y is {self.y}')\n",
    "        \n",
    "    def product(self):\n",
    "        print(f'Product of x and y is {self.x * self.y}')\n",
    "        \n",
    "    def __call__(self,a,b):\n",
    "        print(f'sum of {a} and {b} is {a+b}')"
   ]
  },
  {
   "cell_type": "code",
   "execution_count": 9,
   "id": "615d3c72",
   "metadata": {},
   "outputs": [
    {
     "name": "stdout",
     "output_type": "stream",
     "text": [
      "x is 25 ; y is 4\n"
     ]
    }
   ],
   "source": [
    "math = MatheMatics(x=25,y=4)"
   ]
  },
  {
   "cell_type": "code",
   "execution_count": 11,
   "id": "7d549496",
   "metadata": {},
   "outputs": [
    {
     "name": "stdout",
     "output_type": "stream",
     "text": [
      "sum of 15 and 3 is 18\n"
     ]
    }
   ],
   "source": [
    "math(15,3)"
   ]
  },
  {
   "cell_type": "code",
   "execution_count": 12,
   "id": "6a31c765",
   "metadata": {},
   "outputs": [
    {
     "name": "stdout",
     "output_type": "stream",
     "text": [
      "sum of 15 and 3 is 18\n"
     ]
    }
   ],
   "source": [
    "math.__call__(15,3)"
   ]
  }
 ],
 "metadata": {
  "kernelspec": {
   "display_name": "Python 3 (ipykernel)",
   "language": "python",
   "name": "python3"
  },
  "language_info": {
   "codemirror_mode": {
    "name": "ipython",
    "version": 3
   },
   "file_extension": ".py",
   "mimetype": "text/x-python",
   "name": "python",
   "nbconvert_exporter": "python",
   "pygments_lexer": "ipython3",
   "version": "3.9.0"
  }
 },
 "nbformat": 4,
 "nbformat_minor": 5
}
