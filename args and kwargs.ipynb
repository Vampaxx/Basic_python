{
 "cells": [
  {
   "cell_type": "markdown",
   "id": "4ecf8211",
   "metadata": {},
   "source": [
    "## Function"
   ]
  },
  {
   "cell_type": "markdown",
   "id": "778b9b56",
   "metadata": {},
   "source": [
    "In function, using ** allows inserting multiple arguments."
   ]
  },
  {
   "cell_type": "code",
   "execution_count": 23,
   "id": "fb8480a8",
   "metadata": {},
   "outputs": [],
   "source": [
    "def fun (**nos):\n",
    "    for i in nos:\n",
    "        print(nos)"
   ]
  },
  {
   "cell_type": "code",
   "execution_count": 24,
   "id": "149247b8",
   "metadata": {},
   "outputs": [
    {
     "name": "stdout",
     "output_type": "stream",
     "text": [
      "{'a': 2, 'b': 3}\n",
      "{'a': 2, 'b': 3}\n"
     ]
    }
   ],
   "source": [
    "fun(a = 2, b = 3)"
   ]
  },
  {
   "cell_type": "markdown",
   "id": "ea774ee9",
   "metadata": {},
   "source": [
    "## FOR UNPACKING INTO A FUNCTION CALL\n",
    "\n",
    "single-asterisks (*) unpacks an iterable into the arguments in a function call:"
   ]
  },
  {
   "cell_type": "code",
   "execution_count": 22,
   "id": "2aacabb3",
   "metadata": {},
   "outputs": [
    {
     "name": "stdout",
     "output_type": "stream",
     "text": [
      "apple banana grape orange\n",
      "apple banana grape orange\n"
     ]
    }
   ],
   "source": [
    "fruits = ['apple', 'banana', 'grape', 'orange']\n",
    "print(fruits[0], fruits[1], fruits[2], fruits[3])\n",
    "print(*fruits)"
   ]
  },
  {
   "cell_type": "markdown",
   "id": "ea451d1e",
   "metadata": {},
   "source": [
    "Double-asterisks (** **) also unpacks an iterable into the arguments in a function but only for keyword arguments. The Double-asterisks (** **) operator permits to take a dictionary of key-value pairs and unpack it in keyword arguments in the function call"
   ]
  },
  {
   "cell_type": "code",
   "execution_count": 25,
   "id": "bcfed354",
   "metadata": {},
   "outputs": [
    {
     "name": "stdout",
     "output_type": "stream",
     "text": [
      "2000-03-04.txt\n"
     ]
    }
   ],
   "source": [
    "date_inf = {'year': \"2000\", 'month': \"03\", 'day': \"04\"}\n",
    "file = \"{year}-{month}-{day}.txt\".format(**date_inf)\n",
    "print(file) "
   ]
  },
  {
   "cell_type": "code",
   "execution_count": 27,
   "id": "43a0a3e8",
   "metadata": {},
   "outputs": [
    {
     "name": "stdout",
     "output_type": "stream",
     "text": [
      "Alto,Swift\n"
     ]
    }
   ],
   "source": [
    "vehicles = {'lower_class':'Alto','mid_class':'Swift','rich_class':'BMW','premium':'rols_roys'}\n",
    "print('{lower_class},{mid_class}'.format(**vehicles))"
   ]
  },
  {
   "cell_type": "markdown",
   "id": "ea39b601",
   "metadata": {},
   "source": [
    "## Use the Single-asterisk(*) and Double-asterisks (**) multiple times"
   ]
  },
  {
   "cell_type": "markdown",
   "id": "5a543673",
   "metadata": {},
   "source": [
    "One can use * multiple times in a function"
   ]
  },
  {
   "cell_type": "code",
   "execution_count": 28,
   "id": "eb9c8459",
   "metadata": {},
   "outputs": [
    {
     "name": "stdout",
     "output_type": "stream",
     "text": [
      "1 2 3 4 5 Apple Banana watermelon Grape\n"
     ]
    }
   ],
   "source": [
    "fruits = ['Apple', 'Banana', 'watermelon', 'Grape']\n",
    "numbers = [1, 2, 3, 4, 5]\n",
    "print(*numbers, *fruits)"
   ]
  },
  {
   "cell_type": "markdown",
   "id": "02cab6d6",
   "metadata": {},
   "source": [
    "Use double asterisks (**) multiple times to merge two dictionaries."
   ]
  },
  {
   "cell_type": "code",
   "execution_count": 30,
   "id": "624ce283",
   "metadata": {},
   "outputs": [
    {
     "name": "stdout",
     "output_type": "stream",
     "text": [
      "AFTER MERGING:  {'val1': 10, 'val2': 20, 'val3': 30, 'val4': 40}\n"
     ]
    }
   ],
   "source": [
    "A = {'val1': 10, 'val2': 20}\n",
    "B = {'val3': 30, 'val4': 40}\n",
    "# Merging d1 and d2\n",
    "C = {**A, **B}\n",
    "print(\"AFTER MERGING: \", C)"
   ]
  }
 ],
 "metadata": {
  "kernelspec": {
   "display_name": "Python 3 (ipykernel)",
   "language": "python",
   "name": "python3"
  },
  "language_info": {
   "codemirror_mode": {
    "name": "ipython",
    "version": 3
   },
   "file_extension": ".py",
   "mimetype": "text/x-python",
   "name": "python",
   "nbconvert_exporter": "python",
   "pygments_lexer": "ipython3",
   "version": "3.9.13"
  }
 },
 "nbformat": 4,
 "nbformat_minor": 5
}
