{
 "cells": [
  {
   "cell_type": "code",
   "execution_count": 13,
   "id": "ed528f1d",
   "metadata": {},
   "outputs": [
    {
     "name": "stdout",
     "output_type": "stream",
     "text": [
      "outside a = 12\n",
      "In the fucntion a = (15, 25)\n"
     ]
    }
   ],
   "source": [
    "a = 12\n",
    "b = 25\n",
    "\n",
    "def random_funciton():\n",
    "    a = 15\n",
    "    \n",
    "    print(f\"In the fucntion a = {a,b}\")\n",
    "    \n",
    "print(f\"outside a = {a}\")\n",
    "random_funciton()"
   ]
  },
  {
   "cell_type": "code",
   "execution_count": 18,
   "id": "6f4709d6",
   "metadata": {},
   "outputs": [
    {
     "name": "stdout",
     "output_type": "stream",
     "text": [
      "outside value of a and b are (12, 25)\n",
      "inside value of a = (12, 100)\n"
     ]
    }
   ],
   "source": [
    "## if we want to acess the global value inside the function,\n",
    "\n",
    "def random_function_global():\n",
    "    global a \n",
    "    b = 100\n",
    "    print(f\"inside value of a = {a,b}\")\n",
    "    \n",
    "print(f\"outside value of a and b are {a,b}\")\n",
    "random_function_global()"
   ]
  },
  {
   "cell_type": "code",
   "execution_count": 28,
   "id": "065cab9b",
   "metadata": {},
   "outputs": [
    {
     "name": "stdout",
     "output_type": "stream",
     "text": [
      "140730006148168\n",
      "value of a (outside) 10\n",
      "value of a (outside) 20\n",
      "value of a (outside) 30\n",
      "______________________________________\n",
      "value of local a = 9, \n",
      "Value of global a = 10\n",
      "value of local c = 30, \n",
      "Value of global c = 30\n",
      "id of gloabal of a 140730006148168\n"
     ]
    }
   ],
   "source": [
    "## calling global and local variable in a same funtion\n",
    "\n",
    "a = 10\n",
    "b = 20\n",
    "c = 30\n",
    "print(id(a))\n",
    "\n",
    "\n",
    "def random_fuction():\n",
    "    a = 9\n",
    "    x = globals()['a']\n",
    "    print(f\"value of local a = {a}, \\nValue of global a = {x}\")\n",
    "    print(f\"value of local c = {c}, \\nValue of global c = {globals()['c']}\")\n",
    "    print(f\"id of gloabal of a {id(x)}\")\n",
    "\n",
    "print(f\"value of a (outside) {a}\")\n",
    "print(f\"value of a (outside) {b}\")\n",
    "print(f\"value of a (outside) {c}\")\n",
    "print('______________________________________')\n",
    "random_fuction()\n"
   ]
  },
  {
   "cell_type": "code",
   "execution_count": 29,
   "id": "1427b2e0",
   "metadata": {},
   "outputs": [
    {
     "data": {
      "text/plain": [
       "9"
      ]
     },
     "execution_count": 29,
     "metadata": {},
     "output_type": "execute_result"
    }
   ],
   "source": [
    "number_list = [1,2,4,6,3,7,8,9]\n",
    "number_list.pop()"
   ]
  },
  {
   "cell_type": "code",
   "execution_count": 42,
   "id": "c562b575",
   "metadata": {},
   "outputs": [
    {
     "data": {
      "text/plain": [
       "0"
      ]
     },
     "execution_count": 42,
     "metadata": {},
     "output_type": "execute_result"
    }
   ],
   "source": [
    "50%5"
   ]
  }
 ],
 "metadata": {
  "kernelspec": {
   "display_name": "Python 3 (ipykernel)",
   "language": "python",
   "name": "python3"
  },
  "language_info": {
   "codemirror_mode": {
    "name": "ipython",
    "version": 3
   },
   "file_extension": ".py",
   "mimetype": "text/x-python",
   "name": "python",
   "nbconvert_exporter": "python",
   "pygments_lexer": "ipython3",
   "version": "3.11.4"
  }
 },
 "nbformat": 4,
 "nbformat_minor": 5
}
