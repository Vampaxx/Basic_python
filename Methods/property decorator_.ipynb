{
 "cells": [
  {
   "cell_type": "code",
   "execution_count": null,
   "id": "56cfb144",
   "metadata": {},
   "outputs": [],
   "source": [
    "class PrepareCallback:\n",
    "    def __init__(self, config: PrepareCallbacksConfig):\n",
    "        self.config = config\n",
    "\n",
    "\n",
    "    \n",
    "    @property\n",
    "    def _create_tb_callbacks(self):\n",
    "        timestamp = time.strftime(\"%Y-%m-%d-%H-%M-%S\")\n",
    "        tb_running_log_dir = os.path.join(\n",
    "            self.config.tensorboard_root_log_dir,\n",
    "            f\"tb_logs_at_{timestamp}\",\n",
    "        )\n",
    "        return tf.keras.callbacks.TensorBoard(log_dir=tb_running_log_dir)\n",
    "    \n",
    "\n",
    "    @property\n",
    "    def _create_ckpt_callbacks(self):\n",
    "        return tf.keras.callbacks.ModelCheckpoint(\n",
    "            filepath=self.config.checkpoint_model_filepath,\n",
    "            save_best_only=True\n",
    "        )\n",
    "\n",
    "\n",
    "    def get_tb_ckpt_callbacks(self):\n",
    "        return [\n",
    "            self._create_tb_callbacks,\n",
    "            self._create_ckpt_callbacks\n",
    "        ]"
   ]
  },
  {
   "cell_type": "code",
   "execution_count": 2,
   "id": "2ab173d4",
   "metadata": {},
   "outputs": [],
   "source": [
    "class Vehicle:\n",
    "    def __init__(self,windows,seats):\n",
    "        self.windows = windows\n",
    "        self.seats   = seats  \n",
    "    def find_number_of_seat(self):\n",
    "        print(f\"the vehicle has {self.seats} number of seats\")\n",
    "    "
   ]
  },
  {
   "cell_type": "code",
   "execution_count": 18,
   "id": "a1be9cc6",
   "metadata": {},
   "outputs": [],
   "source": [
    "car = Vehicle(4,5)\n",
    "bus = Vehicle(20,56)"
   ]
  },
  {
   "cell_type": "code",
   "execution_count": 5,
   "id": "9e5fa63b",
   "metadata": {},
   "outputs": [
    {
     "name": "stdout",
     "output_type": "stream",
     "text": [
      "the vehicle has 5 number of seats\n"
     ]
    }
   ],
   "source": [
    "car.find_number_of_seat()"
   ]
  },
  {
   "cell_type": "code",
   "execution_count": 20,
   "id": "fa91edf3",
   "metadata": {},
   "outputs": [],
   "source": [
    "class Vehicle:\n",
    "    def __init__(self,windows,seats):\n",
    "        self.windows = windows\n",
    "        self.seats   = seats  \n",
    "    @property\n",
    "    def find_number_of_seat(self):\n",
    "        print(f\"the vehicle has {self.seats} number of seats\")\n",
    "    @property    \n",
    "    def find_number_of_windows(self):\n",
    "        print(f\"the vehicle has {self.windows} number of windos\")\n",
    "        \n",
    "    def find_number_of_seats_and_windows(self):\n",
    "        return [\n",
    "            self.find_number_of_seat,\n",
    "            self.find_number_of_windows\n",
    "        ]\n",
    "            "
   ]
  },
  {
   "cell_type": "code",
   "execution_count": 22,
   "id": "1a3ce279",
   "metadata": {},
   "outputs": [],
   "source": [
    "car = Vehicle(4,5)\n",
    "bus = Vehicle(20,56)"
   ]
  },
  {
   "cell_type": "code",
   "execution_count": 23,
   "id": "14e9c8bc",
   "metadata": {
    "scrolled": true
   },
   "outputs": [
    {
     "name": "stdout",
     "output_type": "stream",
     "text": [
      "the vehicle has 5 number of seats\n",
      "the vehicle has 4 number of windos\n"
     ]
    },
    {
     "data": {
      "text/plain": [
       "[None, None]"
      ]
     },
     "execution_count": 23,
     "metadata": {},
     "output_type": "execute_result"
    }
   ],
   "source": [
    "car.find_number_of_seats_and_windows()"
   ]
  },
  {
   "cell_type": "code",
   "execution_count": null,
   "id": "cef2b122",
   "metadata": {},
   "outputs": [],
   "source": []
  },
  {
   "cell_type": "code",
   "execution_count": null,
   "id": "b9aed31f",
   "metadata": {},
   "outputs": [],
   "source": []
  },
  {
   "cell_type": "code",
   "execution_count": 24,
   "id": "60e35447",
   "metadata": {},
   "outputs": [],
   "source": [
    "class Person:\n",
    "    def __init__(self, name):\n",
    "        self._name = name\n",
    "\n",
    "    @property\n",
    "    def name(self):\n",
    "        return self._name"
   ]
  },
  {
   "cell_type": "code",
   "execution_count": 30,
   "id": "62ebc579",
   "metadata": {},
   "outputs": [
    {
     "name": "stdout",
     "output_type": "stream",
     "text": [
      "Bard\n"
     ]
    }
   ],
   "source": [
    "person = Person(\"Bard\")\n",
    "print(person.name)"
   ]
  },
  {
   "cell_type": "markdown",
   "id": "eae3c0ed",
   "metadata": {},
   "source": [
    "- We can also use the @property decorator to define setter and deleter methods for the property. For example:"
   ]
  },
  {
   "cell_type": "code",
   "execution_count": 34,
   "id": "92c8362b",
   "metadata": {},
   "outputs": [],
   "source": [
    "class Person:\n",
    "    def __init__(self, name):\n",
    "        self._name = name\n",
    "\n",
    "    @property\n",
    "    def name(self):\n",
    "        return self._name\n",
    "\n",
    "    @name.setter\n",
    "    def name(self, value):\n",
    "        if not isinstance(value, str):\n",
    "            raise ValueError(\"Name must be a string\")\n",
    "        self._name = value\n",
    "\n",
    "    @name.deleter\n",
    "    def name(self):\n",
    "        del self._name"
   ]
  },
  {
   "cell_type": "code",
   "execution_count": 44,
   "id": "d54ef7af",
   "metadata": {},
   "outputs": [],
   "source": [
    "person = Person(\"Bard\")\n",
    "\n",
    "# Set the name property to \"John Doe\"\n",
    "person.name = \"John Doe\"\n",
    "\n",
    "# Delete the name property\n",
    "del person.name"
   ]
  },
  {
   "cell_type": "code",
   "execution_count": 45,
   "id": "30d7d7fd",
   "metadata": {},
   "outputs": [
    {
     "ename": "AttributeError",
     "evalue": "'Person' object has no attribute '_name'",
     "output_type": "error",
     "traceback": [
      "\u001b[1;31m---------------------------------------------------------------------------\u001b[0m",
      "\u001b[1;31mAttributeError\u001b[0m                            Traceback (most recent call last)",
      "Cell \u001b[1;32mIn[45], line 1\u001b[0m\n\u001b[1;32m----> 1\u001b[0m person\u001b[38;5;241m.\u001b[39mname\n",
      "Cell \u001b[1;32mIn[34], line 7\u001b[0m, in \u001b[0;36mPerson.name\u001b[1;34m(self)\u001b[0m\n\u001b[0;32m      5\u001b[0m \u001b[38;5;129m@property\u001b[39m\n\u001b[0;32m      6\u001b[0m \u001b[38;5;28;01mdef\u001b[39;00m \u001b[38;5;21mname\u001b[39m(\u001b[38;5;28mself\u001b[39m):\n\u001b[1;32m----> 7\u001b[0m     \u001b[38;5;28;01mreturn\u001b[39;00m \u001b[38;5;28mself\u001b[39m\u001b[38;5;241m.\u001b[39m_name\n",
      "\u001b[1;31mAttributeError\u001b[0m: 'Person' object has no attribute '_name'"
     ]
    }
   ],
   "source": [
    "person.name"
   ]
  }
 ],
 "metadata": {
  "kernelspec": {
   "display_name": "Python 3 (ipykernel)",
   "language": "python",
   "name": "python3"
  },
  "language_info": {
   "codemirror_mode": {
    "name": "ipython",
    "version": 3
   },
   "file_extension": ".py",
   "mimetype": "text/x-python",
   "name": "python",
   "nbconvert_exporter": "python",
   "pygments_lexer": "ipython3",
   "version": "3.11.4"
  }
 },
 "nbformat": 4,
 "nbformat_minor": 5
}
