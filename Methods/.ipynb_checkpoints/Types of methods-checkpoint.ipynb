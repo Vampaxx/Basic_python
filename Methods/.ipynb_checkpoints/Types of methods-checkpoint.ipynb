{
 "cells": [
  {
   "cell_type": "markdown",
   "id": "34d64b46",
   "metadata": {},
   "source": [
    "## Types of Methods\n",
    "\n",
    "1. Instance Methods\n",
    "2. Class Methods\n",
    "3. Static Methods"
   ]
  },
  {
   "cell_type": "code",
   "execution_count": 8,
   "id": "98e34c49",
   "metadata": {},
   "outputs": [],
   "source": [
    "class Students:\n",
    "    \n",
    "    school = 'Vampaxx'\n",
    "    \n",
    "    def __init__(self,mark1,mark2,mark3):\n",
    "        self.mark1 = mark1\n",
    "        self.mark2 = mark2\n",
    "        self.mark3 = mark3\n",
    "    def average(self):\n",
    "        return (self.mark1 + self.mark2 + self.mark3)/3\n",
    "    \n",
    "    # if you want working with instance then use \"self\"\n",
    "    # if you want working with class variable then use \"cls\"\n",
    "    \n",
    "    def rough (self):\n",
    "        return self.school\n",
    "    \n",
    "    def info(cls):\n",
    "        return cls.school\n",
    "    \n",
    "s1 = Students(56,24,36)        \n",
    "s2 = Students(47,85,63)"
   ]
  },
  {
   "cell_type": "code",
   "execution_count": 9,
   "id": "de7f3f20",
   "metadata": {},
   "outputs": [
    {
     "data": {
      "text/plain": [
       "'Vampaxx'"
      ]
     },
     "execution_count": 9,
     "metadata": {},
     "output_type": "execute_result"
    }
   ],
   "source": [
    "s1.info()"
   ]
  },
  {
   "cell_type": "code",
   "execution_count": null,
   "id": "b7067ad0",
   "metadata": {},
   "outputs": [],
   "source": []
  }
 ],
 "metadata": {
  "kernelspec": {
   "display_name": "Python 3 (ipykernel)",
   "language": "python",
   "name": "python3"
  },
  "language_info": {
   "codemirror_mode": {
    "name": "ipython",
    "version": 3
   },
   "file_extension": ".py",
   "mimetype": "text/x-python",
   "name": "python",
   "nbconvert_exporter": "python",
   "pygments_lexer": "ipython3",
   "version": "3.11.4"
  }
 },
 "nbformat": 4,
 "nbformat_minor": 5
}
