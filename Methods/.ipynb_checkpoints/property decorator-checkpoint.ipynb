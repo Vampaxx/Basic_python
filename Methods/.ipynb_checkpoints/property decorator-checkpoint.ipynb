{
 "cells": [
  {
   "cell_type": "markdown",
   "id": "239a6421",
   "metadata": {},
   "source": [
    "## Property decorator\n",
    "\n",
    "- Its a building decorator, which makes usage of **getter** and **setter** much easier in OOPS."
   ]
  },
  {
   "cell_type": "code",
   "execution_count": 6,
   "id": "37bf24e9",
   "metadata": {},
   "outputs": [],
   "source": [
    "class Celsius:\n",
    "    def __init__(self,temperature = 0):\n",
    "        self.temperature = temperature\n",
    "    def to_fahrenheit(self):\n",
    "        return (self.temperature * 1.8) + 32"
   ]
  },
  {
   "cell_type": "code",
   "execution_count": 7,
   "id": "dd1fecd7",
   "metadata": {},
   "outputs": [],
   "source": [
    "temp1 = Celsius()"
   ]
  },
  {
   "cell_type": "code",
   "execution_count": 8,
   "id": "a764d4a5",
   "metadata": {},
   "outputs": [],
   "source": [
    "temp1.temperature = 32"
   ]
  },
  {
   "cell_type": "code",
   "execution_count": 10,
   "id": "dec0aed6",
   "metadata": {},
   "outputs": [
    {
     "name": "stdout",
     "output_type": "stream",
     "text": [
      "32\n",
      "89.6\n"
     ]
    }
   ],
   "source": [
    "print(temp1.temperature)\n",
    "print(temp1.to_fahrenheit())"
   ]
  },
  {
   "cell_type": "markdown",
   "id": "a16d36dc",
   "metadata": {},
   "source": [
    "Using getter and setter \n",
    "- Suppose we want to extend the usability of celsius class defined above. We know that temperature of any object cannot be reach below -273.15 degree celsius.\n",
    "\n",
    "- In the above code there is no restriction in temperature"
   ]
  },
  {
   "cell_type": "code",
   "execution_count": 34,
   "id": "78c68229",
   "metadata": {},
   "outputs": [],
   "source": [
    "class Celsius:\n",
    "    def __init__(self,temperature = 0):\n",
    "        self.temperature = temperature\n",
    "        \n",
    "    def to_fahrenheit(self):\n",
    "        return (self.temperature * 1.8) + 32\n",
    "    \n",
    "    def get_temperature(self):\n",
    "        print('Getting value.....')\n",
    "        return self._temperature #setting temperature as private variable by _\n",
    "    \n",
    "    def set_temperature(self,value):\n",
    "        if value < -273.15:\n",
    "            print('Temperature below 273.15 is not possible')\n",
    "            return\n",
    "        self._temperature = value\n",
    "        \n",
    "        \n",
    "    temperature = property(get_temperature,set_temperature)"
   ]
  },
  {
   "cell_type": "code",
   "execution_count": 35,
   "id": "d6717724",
   "metadata": {},
   "outputs": [],
   "source": [
    "temp2 = Celsius()\n",
    "temp2.temperature = 56"
   ]
  },
  {
   "cell_type": "code",
   "execution_count": 36,
   "id": "9d608685",
   "metadata": {},
   "outputs": [
    {
     "name": "stdout",
     "output_type": "stream",
     "text": [
      "Getting value.....\n"
     ]
    },
    {
     "data": {
      "text/plain": [
       "56"
      ]
     },
     "execution_count": 36,
     "metadata": {},
     "output_type": "execute_result"
    }
   ],
   "source": [
    "temp2.get_temperature()"
   ]
  },
  {
   "cell_type": "markdown",
   "id": "891573fe",
   "metadata": {},
   "source": [
    "## @property Method"
   ]
  },
  {
   "cell_type": "code",
   "execution_count": 45,
   "id": "99f1be92",
   "metadata": {},
   "outputs": [],
   "source": [
    "class Celsius:\n",
    "    \n",
    "    def __init__(self,temperature):\n",
    "        self.temperature = temperature\n",
    "        \n",
    "    def to_kelvin(self):\n",
    "        return self.temperature + 273.15\n",
    "    @property\n",
    "    def get_temperature(self):\n",
    "        print('Getting value....')\n",
    "        return self._temperature\n",
    "    \n",
    "    @temperature.setter\n",
    "    def set_temperature(self,value):\n",
    "        if value < 273.15:\n",
    "            print('The temperature cannot be less than -273.15')\n",
    "        else:\n",
    "            return self._temperature\n",
    "    "
   ]
  },
  {
   "cell_type": "code",
   "execution_count": 46,
   "id": "0989edce",
   "metadata": {},
   "outputs": [
    {
     "name": "stdout",
     "output_type": "stream",
     "text": [
      "The temperature cannot be less than -273.15\n"
     ]
    }
   ],
   "source": [
    "temp3 = Celsius(-500)"
   ]
  },
  {
   "cell_type": "code",
   "execution_count": 40,
   "id": "78546a9f",
   "metadata": {},
   "outputs": [
    {
     "data": {
      "text/plain": [
       "273.15"
      ]
     },
     "execution_count": 40,
     "metadata": {},
     "output_type": "execute_result"
    }
   ],
   "source": []
  }
 ],
 "metadata": {
  "kernelspec": {
   "display_name": "Python 3 (ipykernel)",
   "language": "python",
   "name": "python3"
  },
  "language_info": {
   "codemirror_mode": {
    "name": "ipython",
    "version": 3
   },
   "file_extension": ".py",
   "mimetype": "text/x-python",
   "name": "python",
   "nbconvert_exporter": "python",
   "pygments_lexer": "ipython3",
   "version": "3.11.4"
  }
 },
 "nbformat": 4,
 "nbformat_minor": 5
}
