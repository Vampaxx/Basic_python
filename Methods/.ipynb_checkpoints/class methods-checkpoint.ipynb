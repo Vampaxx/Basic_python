{
 "cells": [
  {
   "cell_type": "code",
   "execution_count": 8,
   "id": "8278fb99",
   "metadata": {},
   "outputs": [],
   "source": [
    "import datetime"
   ]
  },
  {
   "cell_type": "code",
   "execution_count": 9,
   "id": "1815e7c2",
   "metadata": {},
   "outputs": [],
   "source": [
    "now = datetime.datetime.now()"
   ]
  },
  {
   "cell_type": "code",
   "execution_count": 40,
   "id": "2165a74a",
   "metadata": {},
   "outputs": [],
   "source": [
    "class Car:\n",
    "    base_price = 120000\n",
    "    def __init__(self,windows,door,power):\n",
    "        self.windows = int(windows)\n",
    "        self.door    = int(door)\n",
    "        self.power   = int(power)\n",
    "    def what_base_price(self):\n",
    "        print(f\"what base price is {self.base_price}\")\n",
    "    @classmethod\n",
    "    def revise_base_price(cls,inflation):\n",
    "        cls.base_price = cls.base_price + cls.base_price*inflation\n",
    "    @staticmethod    \n",
    "    def check_and_revise_base_price(year,inflation):\n",
    "        if year == 2020:\n",
    "            Car(self.windows,self.door,self.power).what_base_price()\n",
    "        if year == 2021:\n",
    "            Car(self.windows,self.door,self.power).revise_base_price(inflation)"
   ]
  },
  {
   "cell_type": "code",
   "execution_count": 41,
   "id": "32cf7b63",
   "metadata": {},
   "outputs": [],
   "source": [
    "obj = Car(6,4,256)"
   ]
  },
  {
   "cell_type": "code",
   "execution_count": 42,
   "id": "8455a4ec",
   "metadata": {},
   "outputs": [
    {
     "name": "stdout",
     "output_type": "stream",
     "text": [
      "what base price is 120000\n"
     ]
    }
   ],
   "source": [
    "obj.what_base_price()"
   ]
  },
  {
   "cell_type": "code",
   "execution_count": 34,
   "id": "b822a285",
   "metadata": {},
   "outputs": [],
   "source": [
    "obj.revise_base_price(0.45)"
   ]
  },
  {
   "cell_type": "code",
   "execution_count": 35,
   "id": "40c767b6",
   "metadata": {
    "scrolled": true
   },
   "outputs": [
    {
     "name": "stdout",
     "output_type": "stream",
     "text": [
      "what base price is 174000.0\n"
     ]
    }
   ],
   "source": [
    "obj.what_base_price()"
   ]
  },
  {
   "cell_type": "code",
   "execution_count": 44,
   "id": "7316a759",
   "metadata": {},
   "outputs": [
    {
     "ename": "TypeError",
     "evalue": "Car.check_and_revise_base_price() takes 2 positional arguments but 3 were given",
     "output_type": "error",
     "traceback": [
      "\u001b[1;31m---------------------------------------------------------------------------\u001b[0m",
      "\u001b[1;31mTypeError\u001b[0m                                 Traceback (most recent call last)",
      "Cell \u001b[1;32mIn[44], line 1\u001b[0m\n\u001b[1;32m----> 1\u001b[0m obj\u001b[38;5;241m.\u001b[39mcheck_and_revise_base_price(\u001b[38;5;241m2020\u001b[39m,\u001b[38;5;241m0.24\u001b[39m)\n",
      "\u001b[1;31mTypeError\u001b[0m: Car.check_and_revise_base_price() takes 2 positional arguments but 3 were given"
     ]
    }
   ],
   "source": [
    "obj.check_and_revise_base_price(2020,0.24)"
   ]
  },
  {
   "cell_type": "code",
   "execution_count": null,
   "id": "227367e5",
   "metadata": {},
   "outputs": [],
   "source": []
  },
  {
   "cell_type": "code",
   "execution_count": null,
   "id": "47b10b5f",
   "metadata": {},
   "outputs": [],
   "source": []
  },
  {
   "cell_type": "code",
   "execution_count": null,
   "id": "77bb08df",
   "metadata": {},
   "outputs": [],
   "source": []
  }
 ],
 "metadata": {
  "kernelspec": {
   "display_name": "Python 3 (ipykernel)",
   "language": "python",
   "name": "python3"
  },
  "language_info": {
   "codemirror_mode": {
    "name": "ipython",
    "version": 3
   },
   "file_extension": ".py",
   "mimetype": "text/x-python",
   "name": "python",
   "nbconvert_exporter": "python",
   "pygments_lexer": "ipython3",
   "version": "3.11.4"
  }
 },
 "nbformat": 4,
 "nbformat_minor": 5
}
