{
 "cells": [
  {
   "cell_type": "markdown",
   "id": "7bc8b0b8",
   "metadata": {},
   "source": [
    "## Property decorator\n",
    "\n",
    "- Its a building decorator, which makes usage of **getter** and **setter** much easier in OOPS."
   ]
  },
  {
   "cell_type": "code",
   "execution_count": 6,
   "id": "37bf24e9",
   "metadata": {},
   "outputs": [],
   "source": [
    "class Celsius:\n",
    "    def __init__(self,temperature = 0):\n",
    "        self.temperature = temperature\n",
    "    def to_fahrenheit(self):\n",
    "        return (self.temperature * 1.8) + 32"
   ]
  },
  {
   "cell_type": "code",
   "execution_count": 7,
   "id": "dd1fecd7",
   "metadata": {},
   "outputs": [],
   "source": [
    "temp1 = Celsius()"
   ]
  },
  {
   "cell_type": "code",
   "execution_count": 8,
   "id": "7d9bdec8",
   "metadata": {},
   "outputs": [],
   "source": [
    "temp1.temperature = 32"
   ]
  },
  {
   "cell_type": "code",
   "execution_count": 10,
   "id": "67e8108b",
   "metadata": {},
   "outputs": [
    {
     "name": "stdout",
     "output_type": "stream",
     "text": [
      "32\n",
      "89.6\n"
     ]
    }
   ],
   "source": [
    "print(temp1.temperature)\n",
    "print(temp1.to_fahrenheit())"
   ]
  },
  {
   "cell_type": "markdown",
   "id": "4ad9c159",
   "metadata": {},
   "source": [
    "Using getter and setter \n",
    "- Suppose we want to extend the usability of celsius class defined above. We know that temperature of any object cannot be reach below -273.15 degree celsius.\n",
    "\n",
    "- In the above code there is no restriction in temperature"
   ]
  },
  {
   "cell_type": "code",
   "execution_count": 34,
   "id": "d20d0a60",
   "metadata": {},
   "outputs": [],
   "source": [
    "class Celsius:\n",
    "    def __init__(self,temperature = 0):\n",
    "        self.temperature = temperature\n",
    "        \n",
    "    def to_fahrenheit(self):\n",
    "        return (self.temperature * 1.8) + 32\n",
    "    \n",
    "    def get_temperature(self):\n",
    "        print('Getting value.....')\n",
    "        return self._temperature #setting temperature as private variable by _\n",
    "    \n",
    "    def set_temperature(self,value):\n",
    "        if value < -273.15:\n",
    "            print('Temperature below 273.15 is not possible')\n",
    "            return\n",
    "        self._temperature = value\n",
    "        \n",
    "        \n",
    "    temperature = property(get_temperature,set_temperature)"
   ]
  },
  {
   "cell_type": "code",
   "execution_count": 35,
   "id": "98f9cb21",
   "metadata": {},
   "outputs": [],
   "source": [
    "temp2 = Celsius()\n",
    "temp2.temperature = 56"
   ]
  },
  {
   "cell_type": "code",
   "execution_count": 36,
   "id": "b9fb366d",
   "metadata": {},
   "outputs": [
    {
     "name": "stdout",
     "output_type": "stream",
     "text": [
      "Getting value.....\n"
     ]
    },
    {
     "data": {
      "text/plain": [
       "56"
      ]
     },
     "execution_count": 36,
     "metadata": {},
     "output_type": "execute_result"
    }
   ],
   "source": [
    "temp2.get_temperature()"
   ]
  },
  {
   "cell_type": "markdown",
   "id": "c5cad380",
   "metadata": {},
   "source": [
    "## @property Method"
   ]
  },
  {
   "cell_type": "code",
   "execution_count": 68,
   "id": "fbf45630",
   "metadata": {},
   "outputs": [],
   "source": [
    "class Celsius:\n",
    "    \n",
    "    def __init__(self,temperature = 0):\n",
    "        self.temperature = temperature\n",
    "        \n",
    "    def to_kelvin(self):\n",
    "        return (self.temperature + 273.15)\n",
    "    @property\n",
    "    def temperature(self):\n",
    "        print('Getting value....')\n",
    "        return self._temperature\n",
    "    \n",
    "    @temperature.setter\n",
    "    def temperature(self, value):\n",
    "        print(\"Setting value...\")\n",
    "        if value < -273.15:\n",
    "            print(\"Temperature below -273 is not possible\")\n",
    "        self._temperature = value"
   ]
  },
  {
   "cell_type": "code",
   "execution_count": 67,
   "id": "38eb4e3e",
   "metadata": {},
   "outputs": [
    {
     "name": "stdout",
     "output_type": "stream",
     "text": [
      "Setting value...\n",
      "Temperature below -273 is not possible\n"
     ]
    }
   ],
   "source": [
    "temp3 = Celsius(-500)"
   ]
  },
  {
   "cell_type": "code",
   "execution_count": null,
   "id": "4f4b8334",
   "metadata": {},
   "outputs": [],
   "source": []
  }
 ],
 "metadata": {
  "kernelspec": {
   "display_name": "Python 3 (ipykernel)",
   "language": "python",
   "name": "python3"
  },
  "language_info": {
   "codemirror_mode": {
    "name": "ipython",
    "version": 3
   },
   "file_extension": ".py",
   "mimetype": "text/x-python",
   "name": "python",
   "nbconvert_exporter": "python",
   "pygments_lexer": "ipython3",
   "version": "3.11.4"
  }
 },
 "nbformat": 4,
 "nbformat_minor": 5
}
