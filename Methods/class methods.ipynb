{
 "cells": [
  {
   "cell_type": "code",
   "execution_count": 8,
   "id": "17e580ad",
   "metadata": {},
   "outputs": [],
   "source": [
    "import datetime"
   ]
  },
  {
   "cell_type": "code",
   "execution_count": 9,
   "id": "52ce8eba",
   "metadata": {},
   "outputs": [],
   "source": [
    "now = datetime.datetime.now()"
   ]
  },
  {
   "cell_type": "code",
   "execution_count": 40,
   "id": "30f0c1a5",
   "metadata": {},
   "outputs": [],
   "source": [
    "class Car:\n",
    "    base_price = 120000\n",
    "    def __init__(self,windows,door,power):\n",
    "        self.windows = int(windows)\n",
    "        self.door    = int(door)\n",
    "        self.power   = int(power)\n",
    "    def what_base_price(self):\n",
    "        print(f\"what base price is {self.base_price}\")\n",
    "    @classmethod\n",
    "    def revise_base_price(cls,inflation):\n",
    "        cls.base_price = cls.base_price + cls.base_price*inflation\n",
    "    @staticmethod    \n",
    "    def check_and_revise_base_price(year,inflation):\n",
    "        if year == 2020:\n",
    "            Car(self.windows,self.door,self.power).what_base_price()\n",
    "        if year == 2021:\n",
    "            Car(self.windows,self.door,self.power).revise_base_price(inflation)"
   ]
  },
  {
   "cell_type": "code",
   "execution_count": 45,
   "id": "ba9cfe6d",
   "metadata": {},
   "outputs": [],
   "source": [
    "obj = Car(6,4,256)"
   ]
  },
  {
   "cell_type": "code",
   "execution_count": 46,
   "id": "a5c86fca",
   "metadata": {},
   "outputs": [
    {
     "name": "stdout",
     "output_type": "stream",
     "text": [
      "what base price is 120000\n"
     ]
    }
   ],
   "source": [
    "obj.what_base_price()"
   ]
  },
  {
   "cell_type": "code",
   "execution_count": 34,
   "id": "7722e992",
   "metadata": {},
   "outputs": [],
   "source": [
    "obj.revise_base_price(0.45)"
   ]
  },
  {
   "cell_type": "code",
   "execution_count": 35,
   "id": "133e696a",
   "metadata": {
    "scrolled": true
   },
   "outputs": [
    {
     "name": "stdout",
     "output_type": "stream",
     "text": [
      "what base price is 174000.0\n"
     ]
    }
   ],
   "source": [
    "obj.what_base_price()"
   ]
  },
  {
   "cell_type": "code",
   "execution_count": 47,
   "id": "18613314",
   "metadata": {},
   "outputs": [
    {
     "ename": "TypeError",
     "evalue": "Car.check_and_revise_base_price() takes 2 positional arguments but 3 were given",
     "output_type": "error",
     "traceback": [
      "\u001b[1;31m---------------------------------------------------------------------------\u001b[0m",
      "\u001b[1;31mTypeError\u001b[0m                                 Traceback (most recent call last)",
      "Cell \u001b[1;32mIn[47], line 1\u001b[0m\n\u001b[1;32m----> 1\u001b[0m obj\u001b[38;5;241m.\u001b[39mcheck_and_revise_base_price(\u001b[38;5;241m2020\u001b[39m,\u001b[38;5;241m0.24\u001b[39m)\n",
      "\u001b[1;31mTypeError\u001b[0m: Car.check_and_revise_base_price() takes 2 positional arguments but 3 were given"
     ]
    }
   ],
   "source": [
    "obj.check_and_revise_base_price(2020,0.24)"
   ]
  },
  {
   "cell_type": "code",
   "execution_count": null,
   "id": "d1892075",
   "metadata": {},
   "outputs": [],
   "source": []
  },
  {
   "cell_type": "code",
   "execution_count": null,
   "id": "20b3dafa",
   "metadata": {},
   "outputs": [],
   "source": []
  },
  {
   "cell_type": "code",
   "execution_count": null,
   "id": "9a76b827",
   "metadata": {},
   "outputs": [],
   "source": []
  }
 ],
 "metadata": {
  "kernelspec": {
   "display_name": "Python 3 (ipykernel)",
   "language": "python",
   "name": "python3"
  },
  "language_info": {
   "codemirror_mode": {
    "name": "ipython",
    "version": 3
   },
   "file_extension": ".py",
   "mimetype": "text/x-python",
   "name": "python",
   "nbconvert_exporter": "python",
   "pygments_lexer": "ipython3",
   "version": "3.11.4"
  }
 },
 "nbformat": 4,
 "nbformat_minor": 5
}
