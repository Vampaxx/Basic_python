{
 "cells": [
  {
   "cell_type": "code",
   "execution_count": 1,
   "id": "2b6cc2da",
   "metadata": {},
   "outputs": [],
   "source": [
    "import datetime"
   ]
  },
  {
   "cell_type": "code",
   "execution_count": 2,
   "id": "540814a7",
   "metadata": {},
   "outputs": [],
   "source": [
    "now = datetime.datetime.now()"
   ]
  },
  {
   "cell_type": "code",
   "execution_count": 3,
   "id": "27596d7b",
   "metadata": {},
   "outputs": [],
   "source": [
    "class Car:\n",
    "    base_price = 120000\n",
    "    def __init__(self,windows,door,power):\n",
    "        self.windows = int(windows)\n",
    "        self.door    = int(door)\n",
    "        self.power   = int(power)\n",
    "    def what_base_price(self):\n",
    "        print(f\"what base price is {self.base_price}\")\n",
    "    @classmethod\n",
    "    def revise_base_price(cls,inflation):\n",
    "        cls.base_price = cls.base_price + cls.base_price*inflation\n",
    "        "
   ]
  },
  {
   "cell_type": "code",
   "execution_count": 4,
   "id": "a05c3a35",
   "metadata": {},
   "outputs": [],
   "source": [
    "obj = Car(6,4,256)"
   ]
  },
  {
   "cell_type": "code",
   "execution_count": 5,
   "id": "05e8ea2d",
   "metadata": {},
   "outputs": [
    {
     "name": "stdout",
     "output_type": "stream",
     "text": [
      "what base price is 120000\n"
     ]
    }
   ],
   "source": [
    "obj.what_base_price()"
   ]
  },
  {
   "cell_type": "code",
   "execution_count": 6,
   "id": "6b600bd7",
   "metadata": {},
   "outputs": [],
   "source": [
    "obj.revise_base_price(0.45)"
   ]
  },
  {
   "cell_type": "code",
   "execution_count": 7,
   "id": "029f8866",
   "metadata": {},
   "outputs": [
    {
     "name": "stdout",
     "output_type": "stream",
     "text": [
      "what base price is 174000.0\n"
     ]
    }
   ],
   "source": [
    "obj.what_base_price()"
   ]
  },
  {
   "cell_type": "code",
   "execution_count": 8,
   "id": "2b407ada",
   "metadata": {},
   "outputs": [],
   "source": [
    "class Car:\n",
    "    base_price = 120000\n",
    "    def __init__(self,windows,door,power):\n",
    "        self.windows = int(windows)\n",
    "        self.door    = int(door)\n",
    "        self.power   = int(power)\n",
    "    def what_base_price(self):\n",
    "        print(f\"what base price is {self.base_price}\")\n",
    "    @classmethod\n",
    "    def revise_base_price(cls,inflation):\n",
    "        cls.base_price = cls.base_price + cls.base_price*inflation\n",
    "    @staticmethod\n",
    "    def check_year():\n",
    "        if now.year == 2023:\n",
    "            return True\n",
    "        else:\n",
    "            return False\n",
    "            "
   ]
  },
  {
   "cell_type": "code",
   "execution_count": 9,
   "id": "56204035",
   "metadata": {},
   "outputs": [
    {
     "data": {
      "text/plain": [
       "True"
      ]
     },
     "execution_count": 9,
     "metadata": {},
     "output_type": "execute_result"
    }
   ],
   "source": [
    "Car.check_year()"
   ]
  },
  {
   "cell_type": "code",
   "execution_count": 10,
   "id": "72b380a7",
   "metadata": {},
   "outputs": [],
   "source": [
    "car1 = Car(5,4,256)"
   ]
  },
  {
   "cell_type": "code",
   "execution_count": 12,
   "id": "b8df8dc5",
   "metadata": {},
   "outputs": [],
   "source": [
    "if (car1.check_year):\n",
    "    pass\n",
    "else:\n",
    "    Car.revise_base_price"
   ]
  },
  {
   "cell_type": "code",
   "execution_count": 13,
   "id": "00820e6d",
   "metadata": {},
   "outputs": [
    {
     "data": {
      "text/plain": [
       "120000"
      ]
     },
     "execution_count": 13,
     "metadata": {},
     "output_type": "execute_result"
    }
   ],
   "source": [
    "car1.base_price"
   ]
  }
 ],
 "metadata": {
  "kernelspec": {
   "display_name": "Python 3 (ipykernel)",
   "language": "python",
   "name": "python3"
  },
  "language_info": {
   "codemirror_mode": {
    "name": "ipython",
    "version": 3
   },
   "file_extension": ".py",
   "mimetype": "text/x-python",
   "name": "python",
   "nbconvert_exporter": "python",
   "pygments_lexer": "ipython3",
   "version": "3.11.4"
  }
 },
 "nbformat": 4,
 "nbformat_minor": 5
}
