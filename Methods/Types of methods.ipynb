{
 "cells": [
  {
   "cell_type": "markdown",
   "id": "34d64b46",
   "metadata": {},
   "source": [
    "## Types of Methods\n",
    "\n",
    "1. Instance Methods\n",
    "2. Class Methods\n",
    "3. Static Methods"
   ]
  },
  {
   "cell_type": "code",
   "execution_count": 25,
   "id": "98e34c49",
   "metadata": {},
   "outputs": [],
   "source": [
    "class Students:\n",
    "    \n",
    "    school = 'Vampaxx'\n",
    "    \n",
    "    def __init__(self,mark1,mark2,mark3):\n",
    "        self.mark1 = mark1\n",
    "        self.mark2 = mark2\n",
    "        self.mark3 = mark3\n",
    "    def average(self):\n",
    "        return (self.mark1 + self.mark2 + self.mark3)/3\n",
    "    \n",
    "    # if you want working with instance then use \"self\"\n",
    "    # if you want working with class variable then use \"cls\"\n",
    "    \n",
    "    def getSchoolName(cls):\n",
    "        return cls.school\n",
    "    \n",
    "s1 = Students(56,24,36)        \n",
    "s2 = Students(47,85,63)"
   ]
  },
  {
   "cell_type": "code",
   "execution_count": 18,
   "id": "14464185",
   "metadata": {},
   "outputs": [
    {
     "data": {
      "text/plain": [
       "'Vampaxx'"
      ]
     },
     "execution_count": 18,
     "metadata": {},
     "output_type": "execute_result"
    }
   ],
   "source": [
    "s1.info()"
   ]
  },
  {
   "cell_type": "code",
   "execution_count": 26,
   "id": "2517619c",
   "metadata": {},
   "outputs": [
    {
     "ename": "TypeError",
     "evalue": "Students.getSchoolName() missing 1 required positional argument: 'cls'",
     "output_type": "error",
     "traceback": [
      "\u001b[1;31m---------------------------------------------------------------------------\u001b[0m",
      "\u001b[1;31mTypeError\u001b[0m                                 Traceback (most recent call last)",
      "Cell \u001b[1;32mIn[26], line 1\u001b[0m\n\u001b[1;32m----> 1\u001b[0m Students\u001b[38;5;241m.\u001b[39mgetSchoolName()\n",
      "\u001b[1;31mTypeError\u001b[0m: Students.getSchoolName() missing 1 required positional argument: 'cls'"
     ]
    }
   ],
   "source": [
    "Students.getSchoolName()"
   ]
  },
  {
   "cell_type": "markdown",
   "id": "df291c56",
   "metadata": {},
   "source": [
    "## Class methods"
   ]
  },
  {
   "cell_type": "code",
   "execution_count": 23,
   "id": "d6db1b07",
   "metadata": {},
   "outputs": [],
   "source": [
    "class Students:\n",
    "    \n",
    "    school = 'Vampaxx'\n",
    "    \n",
    "    def __init__(self,mark1,mark2,mark3):\n",
    "        self.mark1 = mark1\n",
    "        self.mark2 = mark2\n",
    "        self.mark3 = mark3\n",
    "    def average(self):\n",
    "        return (self.mark1 + self.mark2 + self.mark3)/3\n",
    "    \n",
    "    # if you want working with instance then use \"self\"\n",
    "    # if you want working with class variable then use \"cls\"\n",
    "    \n",
    "    @classmethod\n",
    "    def getSchoolName(cls):\n",
    "        return cls.school\n",
    "    \n",
    "s1 = Students(56,24,36)        \n",
    "s2 = Students(47,85,63)"
   ]
  },
  {
   "cell_type": "code",
   "execution_count": 24,
   "id": "9d21b2cb",
   "metadata": {},
   "outputs": [
    {
     "data": {
      "text/plain": [
       "'Vampaxx'"
      ]
     },
     "execution_count": 24,
     "metadata": {},
     "output_type": "execute_result"
    }
   ],
   "source": [
    "Students.getSchoolName()"
   ]
  },
  {
   "cell_type": "markdown",
   "id": "76d7e654",
   "metadata": {},
   "source": [
    "## static method\n",
    "\n",
    "- if you want to do some other operation with in other class objects, then we use "
   ]
  },
  {
   "cell_type": "code",
   "execution_count": 29,
   "id": "ac378905",
   "metadata": {},
   "outputs": [],
   "source": [
    "class Students:\n",
    "    \n",
    "    school = 'Vampaxx'\n",
    "    \n",
    "    def __init__(self,mark1,mark2,mark3):\n",
    "        self.mark1 = mark1\n",
    "        self.mark2 = mark2\n",
    "        self.mark3 = mark3\n",
    "    def average(self):\n",
    "        return (self.mark1 + self.mark2 + self.mark3)/3\n",
    "    \n",
    "    # if you want working with instance then use \"self\"\n",
    "    # if you want working with class variable then use \"cls\"\n",
    "    \n",
    "    @classmethod\n",
    "    def getSchoolName(cls):\n",
    "        return cls.school\n",
    "    \n",
    "    @staticmethod\n",
    "    def info():\n",
    "        print(\"This is the student class in a module\")\n",
    "    \n",
    "s1 = Students(56,24,36)        \n",
    "s2 = Students(47,85,63)"
   ]
  },
  {
   "cell_type": "code",
   "execution_count": 30,
   "id": "a3b8e75d",
   "metadata": {},
   "outputs": [
    {
     "name": "stdout",
     "output_type": "stream",
     "text": [
      "This is the student class in a module\n"
     ]
    }
   ],
   "source": [
    "s1.info()"
   ]
  },
  {
   "cell_type": "code",
   "execution_count": null,
   "id": "4bd575c3",
   "metadata": {},
   "outputs": [],
   "source": []
  },
  {
   "cell_type": "code",
   "execution_count": null,
   "id": "fba2b5b6",
   "metadata": {},
   "outputs": [],
   "source": []
  },
  {
   "cell_type": "code",
   "execution_count": null,
   "id": "9c30fbe6",
   "metadata": {},
   "outputs": [],
   "source": []
  },
  {
   "cell_type": "code",
   "execution_count": null,
   "id": "ae2f87e3",
   "metadata": {},
   "outputs": [],
   "source": []
  },
  {
   "cell_type": "code",
   "execution_count": null,
   "id": "452ea654",
   "metadata": {},
   "outputs": [],
   "source": []
  },
  {
   "cell_type": "code",
   "execution_count": null,
   "id": "3b4d6ca4",
   "metadata": {},
   "outputs": [],
   "source": []
  },
  {
   "cell_type": "code",
   "execution_count": null,
   "id": "9b1e4fd3",
   "metadata": {},
   "outputs": [],
   "source": []
  },
  {
   "cell_type": "code",
   "execution_count": null,
   "id": "c42ea80a",
   "metadata": {},
   "outputs": [],
   "source": []
  },
  {
   "cell_type": "code",
   "execution_count": null,
   "id": "931576a8",
   "metadata": {},
   "outputs": [],
   "source": []
  },
  {
   "cell_type": "code",
   "execution_count": null,
   "id": "3e4e3115",
   "metadata": {},
   "outputs": [],
   "source": []
  },
  {
   "cell_type": "code",
   "execution_count": null,
   "id": "51da4d97",
   "metadata": {},
   "outputs": [],
   "source": []
  },
  {
   "cell_type": "code",
   "execution_count": 1,
   "id": "a72b9843",
   "metadata": {},
   "outputs": [],
   "source": [
    "ranom = \"hello worlld\""
   ]
  },
  {
   "cell_type": "code",
   "execution_count": 2,
   "id": "d0cf2bea",
   "metadata": {},
   "outputs": [
    {
     "data": {
      "text/plain": [
       "'hello'"
      ]
     },
     "execution_count": 2,
     "metadata": {},
     "output_type": "execute_result"
    }
   ],
   "source": [
    "ranom.split()[0]"
   ]
  },
  {
   "cell_type": "code",
   "execution_count": 5,
   "id": "2f1c48df",
   "metadata": {},
   "outputs": [],
   "source": [
    "pat = [1, 3, 2, 1, 2, 3, 1, 0, 1, 3]\n",
    "\n",
    "\n",
    "remove = []\n",
    "for i in pat:\n",
    "    if i%2 !=0:\n",
    "        remove.append(i)"
   ]
  },
  {
   "cell_type": "code",
   "execution_count": 7,
   "id": "2beb66c8",
   "metadata": {},
   "outputs": [
    {
     "data": {
      "text/plain": [
       "set()"
      ]
     },
     "execution_count": 7,
     "metadata": {},
     "output_type": "execute_result"
    }
   ],
   "source": [
    "set()"
   ]
  },
  {
   "cell_type": "code",
   "execution_count": null,
   "id": "10696df0",
   "metadata": {},
   "outputs": [],
   "source": []
  }
 ],
 "metadata": {
  "kernelspec": {
   "display_name": "Python 3 (ipykernel)",
   "language": "python",
   "name": "python3"
  },
  "language_info": {
   "codemirror_mode": {
    "name": "ipython",
    "version": 3
   },
   "file_extension": ".py",
   "mimetype": "text/x-python",
   "name": "python",
   "nbconvert_exporter": "python",
   "pygments_lexer": "ipython3",
   "version": "3.11.4"
  }
 },
 "nbformat": 4,
 "nbformat_minor": 5
}
