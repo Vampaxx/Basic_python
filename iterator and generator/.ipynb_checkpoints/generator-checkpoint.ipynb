{
 "cells": [
  {
   "cell_type": "code",
   "execution_count": 1,
   "id": "2df204b7",
   "metadata": {},
   "outputs": [],
   "source": [
    "import memory_profiler\n",
    "import random\n",
    "import time"
   ]
  },
  {
   "cell_type": "code",
   "execution_count": 2,
   "id": "0aea73bf",
   "metadata": {
    "scrolled": true
   },
   "outputs": [
    {
     "name": "stdout",
     "output_type": "stream",
     "text": [
      "Memory usage (Before): [67.28515625]\n"
     ]
    }
   ],
   "source": [
    "print(f\"Memory usage (Before): {memory_profiler.memory_usage()}\")"
   ]
  },
  {
   "cell_type": "code",
   "execution_count": 3,
   "id": "c5477206",
   "metadata": {},
   "outputs": [],
   "source": [
    "def square_number(number):\n",
    "    result = []\n",
    "    for i in number:\n",
    "        result.append(i*i)\n",
    "    return result"
   ]
  },
  {
   "cell_type": "code",
   "execution_count": 4,
   "id": "aa2d1797",
   "metadata": {},
   "outputs": [
    {
     "data": {
      "text/plain": [
       "[1, 4, 9, 16, 25, 36, 49, 64, 81]"
      ]
     },
     "execution_count": 4,
     "metadata": {},
     "output_type": "execute_result"
    }
   ],
   "source": [
    "square_number([1,2,3,4,5,6,7,8,9])"
   ]
  },
  {
   "cell_type": "code",
   "execution_count": 5,
   "id": "ea738d95",
   "metadata": {},
   "outputs": [],
   "source": [
    "def square_number(number):\n",
    "    for i in number:\n",
    "        yield (i*i)"
   ]
  },
  {
   "cell_type": "code",
   "execution_count": 6,
   "id": "cdaaa024",
   "metadata": {},
   "outputs": [],
   "source": [
    "squares = square_number([1,2,3,4,5,6,7,8,9])"
   ]
  },
  {
   "cell_type": "code",
   "execution_count": 7,
   "id": "dd6c8387",
   "metadata": {},
   "outputs": [
    {
     "data": {
      "text/plain": [
       "<generator object square_number at 0x00000186EE0298A0>"
      ]
     },
     "execution_count": 7,
     "metadata": {},
     "output_type": "execute_result"
    }
   ],
   "source": [
    "squares"
   ]
  },
  {
   "cell_type": "code",
   "execution_count": 8,
   "id": "fc7c2dc3",
   "metadata": {},
   "outputs": [],
   "source": [
    "number = [1,2,3,4,5,6,7,8,9]"
   ]
  },
  {
   "cell_type": "code",
   "execution_count": 9,
   "id": "49619f34",
   "metadata": {},
   "outputs": [
    {
     "name": "stdout",
     "output_type": "stream",
     "text": [
      "1\n",
      "4\n",
      "9\n",
      "16\n"
     ]
    }
   ],
   "source": [
    "## generator never hold the entire result in memory. It gives only one result at a time. \n",
    "\n",
    "\n",
    "print(next(squares))\n",
    "print(next(squares))\n",
    "print(next(squares))\n",
    "print(next(squares))\n",
    "\n",
    "\n",
    "\n",
    "# iteration stops after 9th iter. Then gives StopIterError."
   ]
  },
  {
   "cell_type": "code",
   "execution_count": 10,
   "id": "daaae2d6",
   "metadata": {},
   "outputs": [
    {
     "name": "stdout",
     "output_type": "stream",
     "text": [
      "25\n",
      "36\n",
      "49\n",
      "64\n",
      "81\n"
     ]
    }
   ],
   "source": [
    "for result in squares:\n",
    "    print(result)"
   ]
  },
  {
   "cell_type": "code",
   "execution_count": 11,
   "id": "8e467143",
   "metadata": {},
   "outputs": [],
   "source": [
    "iter_number = iter(number)"
   ]
  },
  {
   "cell_type": "markdown",
   "id": "e8963469",
   "metadata": {},
   "source": [
    "### Exception Handling"
   ]
  },
  {
   "cell_type": "code",
   "execution_count": 12,
   "id": "1240c177",
   "metadata": {},
   "outputs": [
    {
     "name": "stdout",
     "output_type": "stream",
     "text": [
      "1\n"
     ]
    }
   ],
   "source": [
    "try:\n",
    "    print(next(iter_number))\n",
    "except StopIteration:\n",
    "    print('Stop iteration. List of numbers exhausted')"
   ]
  },
  {
   "cell_type": "code",
   "execution_count": null,
   "id": "efac245c",
   "metadata": {},
   "outputs": [],
   "source": []
  },
  {
   "cell_type": "code",
   "execution_count": 13,
   "id": "484d18bd",
   "metadata": {
    "scrolled": true
   },
   "outputs": [
    {
     "data": {
      "text/plain": [
       "<generator object <genexpr> at 0x00000186EE0297D0>"
      ]
     },
     "execution_count": 13,
     "metadata": {},
     "output_type": "execute_result"
    }
   ],
   "source": [
    "## make generator\n",
    "(x*x for x in number)"
   ]
  },
  {
   "cell_type": "code",
   "execution_count": 14,
   "id": "6b382bfc",
   "metadata": {},
   "outputs": [
    {
     "data": {
      "text/plain": [
       "[1, 4, 9, 16, 25, 36, 49, 64, 81]"
      ]
     },
     "execution_count": 14,
     "metadata": {},
     "output_type": "execute_result"
    }
   ],
   "source": [
    "# convert the generator into list of number\n",
    "list(x*x for x in number) "
   ]
  },
  {
   "cell_type": "code",
   "execution_count": 15,
   "id": "04f424ac",
   "metadata": {},
   "outputs": [
    {
     "data": {
      "text/plain": [
       "[1, 2, 3, 4, 5, 6, 7, 8, 9]"
      ]
     },
     "execution_count": 15,
     "metadata": {},
     "output_type": "execute_result"
    }
   ],
   "source": [
    "[x for x in number]"
   ]
  },
  {
   "cell_type": "code",
   "execution_count": null,
   "id": "10fcbb57",
   "metadata": {},
   "outputs": [],
   "source": []
  },
  {
   "cell_type": "code",
   "execution_count": 16,
   "id": "aedbe614",
   "metadata": {},
   "outputs": [
    {
     "name": "stdout",
     "output_type": "stream",
     "text": [
      "Memory usage (Before): 67.99609375 Mb\n",
      "\n",
      "Memory usage (Ater) Calling People_list() function: 2295.13671875 Mb\n",
      "Time required to complete the task: 13.974385499954224 seconds\n",
      "\n",
      "Memory usage (Ater) Calling People_generator() function: 72.7734375 Mb\n",
      "Time required to complete the task: 0.6272478103637695 seconds\n"
     ]
    }
   ],
   "source": [
    "name = ['Micheal','Jackson','Mia','Alia','Suhana','Dani']\n",
    "major = ['Engineering','Math','MBBS','Degree','Arts','Business']\n",
    "\n",
    "def people_list(number_people):\n",
    "    result = []\n",
    "    for i in range(number_people):\n",
    "        person = {\n",
    "            'Id' : i,\n",
    "            'Name'  : random.choice(name),\n",
    "            'Major' : random.choice(major) \n",
    "        }\n",
    "        result.append(person)\n",
    "    return result\n",
    "\n",
    "\n",
    "def people_generator(number_people):\n",
    "    for i in range(number_people):\n",
    "        person = {\n",
    "            \"Id\" : i,\n",
    "            \"Name\" : random.choice(name),\n",
    "            'Major': random.choice(major)\n",
    "        }\n",
    "        yield person\n",
    "        \n",
    "print(f\"Memory usage (Before): {memory_profiler.memory_usage()[0]} Mb\")\n",
    "\n",
    "t1 = time.time()\n",
    "people = people_list(10000000)\n",
    "t2 = time.time()\n",
    "\n",
    "print(f\"\\nMemory usage (Ater) Calling People_list() function: {memory_profiler.memory_usage()[0]} Mb\")\n",
    "print(f\"Time required to complete the task: {t2-t1} seconds\")\n",
    "\n",
    "t1 = time.time()\n",
    "people = people_generator(10000000)\n",
    "t2 = time.time()\n",
    "\n",
    "print(f\"\\nMemory usage (Ater) Calling People_generator() function: {memory_profiler.memory_usage()[0]} Mb\")\n",
    "print(f\"Time required to complete the task: {t2-t1} seconds\")"
   ]
  },
  {
   "cell_type": "code",
   "execution_count": 18,
   "id": "42591613",
   "metadata": {},
   "outputs": [],
   "source": [
    "def square_function(number):\n",
    "    for i in range(number):\n",
    "        return i*i"
   ]
  },
  {
   "cell_type": "code",
   "execution_count": null,
   "id": "88fa0320",
   "metadata": {},
   "outputs": [],
   "source": []
  },
  {
   "cell_type": "code",
   "execution_count": null,
   "id": "9397297c",
   "metadata": {},
   "outputs": [],
   "source": []
  },
  {
   "cell_type": "code",
   "execution_count": null,
   "id": "8664ff26",
   "metadata": {},
   "outputs": [],
   "source": []
  },
  {
   "cell_type": "code",
   "execution_count": null,
   "id": "f0c95c88",
   "metadata": {},
   "outputs": [],
   "source": []
  },
  {
   "cell_type": "code",
   "execution_count": null,
   "id": "fbc8e8d9",
   "metadata": {},
   "outputs": [],
   "source": []
  },
  {
   "cell_type": "code",
   "execution_count": null,
   "id": "2836e666",
   "metadata": {},
   "outputs": [],
   "source": []
  },
  {
   "cell_type": "code",
   "execution_count": null,
   "id": "fd5d2d30",
   "metadata": {},
   "outputs": [],
   "source": []
  },
  {
   "cell_type": "code",
   "execution_count": null,
   "id": "ea60e3e7",
   "metadata": {},
   "outputs": [],
   "source": []
  }
 ],
 "metadata": {
  "kernelspec": {
   "display_name": "Python 3 (ipykernel)",
   "language": "python",
   "name": "python3"
  },
  "language_info": {
   "codemirror_mode": {
    "name": "ipython",
    "version": 3
   },
   "file_extension": ".py",
   "mimetype": "text/x-python",
   "name": "python",
   "nbconvert_exporter": "python",
   "pygments_lexer": "ipython3",
   "version": "3.11.4"
  }
 },
 "nbformat": 4,
 "nbformat_minor": 5
}
