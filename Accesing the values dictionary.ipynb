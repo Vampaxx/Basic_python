{
 "cells": [
  {
   "cell_type": "code",
   "execution_count": 1,
   "id": "e8355543",
   "metadata": {},
   "outputs": [],
   "source": [
    "pixel = {\"W1\": (25, 12288),  \n",
    "        \"b1\": (25, 1),\n",
    "        \"W2\": (12, 25),\n",
    "        \"b2\": (12, 1),\n",
    "        \"W3\": (6, 12),\n",
    "        \"b3\": (6, 1)} "
   ]
  },
  {
   "cell_type": "code",
   "execution_count": 2,
   "id": "02b5198e",
   "metadata": {},
   "outputs": [
    {
     "data": {
      "text/plain": [
       "(25, 1)"
      ]
     },
     "execution_count": 2,
     "metadata": {},
     "output_type": "execute_result"
    }
   ],
   "source": [
    "### Access the key value pair from the dictionary using index\n",
    "all_items = list(pixel.items())\n",
    "all_values = list(pixel.values())\n",
    "all_keys = list(pixel.keys())\n",
    "\n",
    "\n",
    "## accessing values perticular \n",
    "all_values[1]"
   ]
  },
  {
   "cell_type": "code",
   "execution_count": 3,
   "id": "e847d670",
   "metadata": {},
   "outputs": [],
   "source": [
    "### creatig dict\n",
    "to_dict = ['happy','sad','angry','cry','emotions']\n",
    "new_values = dict(zip(to_dict,range(1,len(to_dict)+1 )))\n"
   ]
  },
  {
   "cell_type": "code",
   "execution_count": 12,
   "id": "0e74d479",
   "metadata": {},
   "outputs": [
    {
     "name": "stdout",
     "output_type": "stream",
     "text": [
      "<class 'tuple'>\n",
      "<class 'tuple'>\n",
      "<class 'tuple'>\n",
      "<class 'tuple'>\n",
      "<class 'tuple'>\n",
      "<class 'tuple'>\n"
     ]
    }
   ],
   "source": [
    "for i, j in  enumerate(pixel.items()):\n",
    "    print(ty)"
   ]
  },
  {
   "cell_type": "code",
   "execution_count": 4,
   "id": "6125abe4",
   "metadata": {},
   "outputs": [
    {
     "data": {
      "text/plain": [
       "{'W1': (25, 12288),\n",
       " 'b1': (25, 1),\n",
       " 'W2': (12, 25),\n",
       " 'b2': (12, 1),\n",
       " 'W3': (6, 12),\n",
       " 'b3': (6, 1)}"
      ]
     },
     "execution_count": 4,
     "metadata": {},
     "output_type": "execute_result"
    }
   ],
   "source": [
    "pixel"
   ]
  }
 ],
 "metadata": {
  "kernelspec": {
   "display_name": "Python 3 (ipykernel)",
   "language": "python",
   "name": "python3"
  },
  "language_info": {
   "codemirror_mode": {
    "name": "ipython",
    "version": 3
   },
   "file_extension": ".py",
   "mimetype": "text/x-python",
   "name": "python",
   "nbconvert_exporter": "python",
   "pygments_lexer": "ipython3",
   "version": "3.9.13"
  }
 },
 "nbformat": 4,
 "nbformat_minor": 5
}
