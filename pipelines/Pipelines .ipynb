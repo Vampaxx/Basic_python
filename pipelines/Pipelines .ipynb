{
 "cells": [
  {
   "cell_type": "code",
   "execution_count": 1,
   "id": "a124d5bf",
   "metadata": {},
   "outputs": [],
   "source": [
    "import pandas as pd"
   ]
  },
  {
   "cell_type": "code",
   "execution_count": 2,
   "id": "13635f8f",
   "metadata": {},
   "outputs": [],
   "source": [
    "data = {'name':['Micheal',\"Mia\",'Daniel','Malkova','sunny'],\n",
    "       'age':[59,28,32,None,36],\n",
    "       'gender':['m','f','f','f','f'],\n",
    "       'job':['Dancer','Artist','bowler','player','Singer']}\n",
    "df = pd.DataFrame(data)"
   ]
  },
  {
   "cell_type": "code",
   "execution_count": 3,
   "id": "33763ed8",
   "metadata": {},
   "outputs": [
    {
     "data": {
      "text/html": [
       "<div>\n",
       "<style scoped>\n",
       "    .dataframe tbody tr th:only-of-type {\n",
       "        vertical-align: middle;\n",
       "    }\n",
       "\n",
       "    .dataframe tbody tr th {\n",
       "        vertical-align: top;\n",
       "    }\n",
       "\n",
       "    .dataframe thead th {\n",
       "        text-align: right;\n",
       "    }\n",
       "</style>\n",
       "<table border=\"1\" class=\"dataframe\">\n",
       "  <thead>\n",
       "    <tr style=\"text-align: right;\">\n",
       "      <th></th>\n",
       "      <th>name</th>\n",
       "      <th>age</th>\n",
       "      <th>gender</th>\n",
       "      <th>job</th>\n",
       "    </tr>\n",
       "  </thead>\n",
       "  <tbody>\n",
       "    <tr>\n",
       "      <th>0</th>\n",
       "      <td>Micheal</td>\n",
       "      <td>59.0</td>\n",
       "      <td>m</td>\n",
       "      <td>Dancer</td>\n",
       "    </tr>\n",
       "    <tr>\n",
       "      <th>1</th>\n",
       "      <td>Mia</td>\n",
       "      <td>28.0</td>\n",
       "      <td>f</td>\n",
       "      <td>Artist</td>\n",
       "    </tr>\n",
       "    <tr>\n",
       "      <th>2</th>\n",
       "      <td>Daniel</td>\n",
       "      <td>32.0</td>\n",
       "      <td>f</td>\n",
       "      <td>bowler</td>\n",
       "    </tr>\n",
       "    <tr>\n",
       "      <th>3</th>\n",
       "      <td>Malkova</td>\n",
       "      <td>NaN</td>\n",
       "      <td>f</td>\n",
       "      <td>player</td>\n",
       "    </tr>\n",
       "    <tr>\n",
       "      <th>4</th>\n",
       "      <td>sunny</td>\n",
       "      <td>36.0</td>\n",
       "      <td>f</td>\n",
       "      <td>Singer</td>\n",
       "    </tr>\n",
       "  </tbody>\n",
       "</table>\n",
       "</div>"
      ],
      "text/plain": [
       "      name   age gender     job\n",
       "0  Micheal  59.0      m  Dancer\n",
       "1      Mia  28.0      f  Artist\n",
       "2   Daniel  32.0      f  bowler\n",
       "3  Malkova   NaN      f  player\n",
       "4    sunny  36.0      f  Singer"
      ]
     },
     "execution_count": 3,
     "metadata": {},
     "output_type": "execute_result"
    }
   ],
   "source": [
    "df.head()"
   ]
  },
  {
   "cell_type": "markdown",
   "id": "0d03443e",
   "metadata": {},
   "source": [
    "## preprocessing pipeline\n",
    "\n",
    "- Drop name features\n",
    "- Impute ages\n",
    "- turn gender into binary\n",
    "- One hot encording (job)"
   ]
  },
  {
   "cell_type": "code",
   "execution_count": 4,
   "id": "bf468f82",
   "metadata": {},
   "outputs": [],
   "source": [
    "from sklearn.impute import SimpleImputer\n",
    "from sklearn.preprocessing import OneHotEncoder"
   ]
  },
  {
   "cell_type": "code",
   "execution_count": 5,
   "id": "d95cac86",
   "metadata": {},
   "outputs": [],
   "source": [
    "## 1. name drop\n",
    "## df = df.drop(['name'],axis=1)\n",
    "\n",
    "## 2. Impute Age \n",
    "## imputer = SimpleImputer(strategy = 'mean')\n",
    "## imputer.fit_transform(df['Age'])\n",
    "\n",
    "## 3. tuen gender into binary\n",
    "## male 0, feamale 1\n",
    "## df['gender'].map({'m':0,'f':1}) or \n",
    "## gender_dict = {'m':0,'f':1} ==> [gender_dict[i] for i in df['gender']]\n",
    "\n"
   ]
  },
  {
   "cell_type": "code",
   "execution_count": 6,
   "id": "99fb7024",
   "metadata": {},
   "outputs": [],
   "source": [
    "## 1. name drop\n",
    "df = df.drop(['name'],axis=1)\n",
    "\n",
    "## 2. Impute Age \n",
    "imputer = SimpleImputer(strategy='mean')\n",
    "df['age'] = imputer.fit_transform(df[['age']])"
   ]
  },
  {
   "cell_type": "code",
   "execution_count": 7,
   "id": "62df7643",
   "metadata": {},
   "outputs": [],
   "source": [
    "## 3. tuen gender into binary\n",
    "gender_dict = {'m':0,'f':1}\n",
    "df['gender'] = [gender_dict[i] for i in df['gender']]\n",
    "## One hot encording \n"
   ]
  },
  {
   "cell_type": "code",
   "execution_count": 8,
   "id": "e69e370f",
   "metadata": {},
   "outputs": [],
   "source": [
    "# one hot encording\n",
    "encorder  = OneHotEncoder()\n",
    "matrix = encorder.fit_transform(df[['job']]).toarray()\n",
    "\n",
    "column_name = df['job'].values.tolist()\n",
    "\n",
    "for i in range(len(matrix.T)):\n",
    "    df[column_name[i]] = matrix.T[i]\n",
    "\n",
    "df = df.drop(['job'],axis=1)"
   ]
  },
  {
   "cell_type": "code",
   "execution_count": 9,
   "id": "8098d026",
   "metadata": {},
   "outputs": [
    {
     "data": {
      "text/plain": [
       "array([[0., 1., 0., 0., 0.],\n",
       "       [1., 0., 0., 0., 0.],\n",
       "       [0., 0., 0., 1., 0.],\n",
       "       [0., 0., 0., 0., 1.],\n",
       "       [0., 0., 1., 0., 0.]])"
      ]
     },
     "execution_count": 9,
     "metadata": {},
     "output_type": "execute_result"
    }
   ],
   "source": [
    "matrix"
   ]
  },
  {
   "cell_type": "code",
   "execution_count": 10,
   "id": "81d9184f",
   "metadata": {},
   "outputs": [],
   "source": [
    "data = {'name':['Micheal',\"Mia\",'Daniel','Malkova','sunny'],\n",
    "       'age':[59,None,32,None,36],\n",
    "       'gender':['m','f','f','m','f'],\n",
    "       'job':['Dancer','Artist','actor','player','Singer']}\n",
    "df = pd.DataFrame(data)"
   ]
  },
  {
   "cell_type": "markdown",
   "id": "b082ee9a",
   "metadata": {},
   "source": [
    "## Pipelines "
   ]
  },
  {
   "cell_type": "code",
   "execution_count": 11,
   "id": "64db82d7",
   "metadata": {},
   "outputs": [],
   "source": [
    "from sklearn.base import BaseEstimator, TransformerMixin"
   ]
  },
  {
   "cell_type": "code",
   "execution_count": 12,
   "id": "4722da24",
   "metadata": {},
   "outputs": [],
   "source": [
    "class NameDropper(BaseEstimator,TransformerMixin):\n",
    "    \n",
    "    def fit(self,X,y=None):\n",
    "        return self\n",
    "    \n",
    "    def transform(self,X):\n",
    "        return X.drop(['name'],axis=1)\n",
    "    \n",
    "class ImputeAge(BaseEstimator,TransformerMixin):\n",
    "    \n",
    "    def fit(self,X,y=None):\n",
    "        return self\n",
    "    \n",
    "    def transform(self,X):     \n",
    "        imputer = SimpleImputer(strategy = 'mean')\n",
    "        X['age'] = imputer.fit_transform(X[['age']])\n",
    "        return X\n",
    "\n",
    "class FeatureEncorder(BaseEstimator,TransformerMixin):\n",
    "    \n",
    "    def fit(self,X,y=None):\n",
    "        return self\n",
    "    \n",
    "    def transform(self,X): \n",
    "        \n",
    "        # convert into binary\n",
    "        gender_dict = {'m':0,'f':1}\n",
    "        X['gender'] = [gender_dict[i] for i in X['gender']]\n",
    "        \n",
    "        # One hot encording\n",
    "        encorder = OneHotEncoder()\n",
    "        encorder.fit_transform(X[['job']]).toarray()\n",
    "        \n",
    "        column_name = X['job'].values.tolist()\n",
    "        \n",
    "        for i,j in enumerate(column_name):\n",
    "            X[column_name[i]] = matrix.T[i]\n",
    "        return X.drop(['job',column_name[-1]],axis=1)"
   ]
  },
  {
   "cell_type": "code",
   "execution_count": 13,
   "id": "118de366",
   "metadata": {},
   "outputs": [],
   "source": [
    "dropper = NameDropper()\n",
    "impputer = ImputeAge()\n",
    "encorder = FeatureEncorder()"
   ]
  },
  {
   "cell_type": "code",
   "execution_count": 14,
   "id": "b099631e",
   "metadata": {},
   "outputs": [
    {
     "data": {
      "text/html": [
       "<div>\n",
       "<style scoped>\n",
       "    .dataframe tbody tr th:only-of-type {\n",
       "        vertical-align: middle;\n",
       "    }\n",
       "\n",
       "    .dataframe tbody tr th {\n",
       "        vertical-align: top;\n",
       "    }\n",
       "\n",
       "    .dataframe thead th {\n",
       "        text-align: right;\n",
       "    }\n",
       "</style>\n",
       "<table border=\"1\" class=\"dataframe\">\n",
       "  <thead>\n",
       "    <tr style=\"text-align: right;\">\n",
       "      <th></th>\n",
       "      <th>age</th>\n",
       "      <th>gender</th>\n",
       "      <th>Dancer</th>\n",
       "      <th>Artist</th>\n",
       "      <th>actor</th>\n",
       "      <th>player</th>\n",
       "    </tr>\n",
       "  </thead>\n",
       "  <tbody>\n",
       "    <tr>\n",
       "      <th>0</th>\n",
       "      <td>59.000000</td>\n",
       "      <td>0</td>\n",
       "      <td>0.0</td>\n",
       "      <td>1.0</td>\n",
       "      <td>0.0</td>\n",
       "      <td>0.0</td>\n",
       "    </tr>\n",
       "    <tr>\n",
       "      <th>1</th>\n",
       "      <td>42.333333</td>\n",
       "      <td>1</td>\n",
       "      <td>1.0</td>\n",
       "      <td>0.0</td>\n",
       "      <td>0.0</td>\n",
       "      <td>0.0</td>\n",
       "    </tr>\n",
       "    <tr>\n",
       "      <th>2</th>\n",
       "      <td>32.000000</td>\n",
       "      <td>1</td>\n",
       "      <td>0.0</td>\n",
       "      <td>0.0</td>\n",
       "      <td>0.0</td>\n",
       "      <td>1.0</td>\n",
       "    </tr>\n",
       "    <tr>\n",
       "      <th>3</th>\n",
       "      <td>42.333333</td>\n",
       "      <td>0</td>\n",
       "      <td>0.0</td>\n",
       "      <td>0.0</td>\n",
       "      <td>0.0</td>\n",
       "      <td>0.0</td>\n",
       "    </tr>\n",
       "    <tr>\n",
       "      <th>4</th>\n",
       "      <td>36.000000</td>\n",
       "      <td>1</td>\n",
       "      <td>0.0</td>\n",
       "      <td>0.0</td>\n",
       "      <td>1.0</td>\n",
       "      <td>0.0</td>\n",
       "    </tr>\n",
       "  </tbody>\n",
       "</table>\n",
       "</div>"
      ],
      "text/plain": [
       "         age  gender  Dancer  Artist  actor  player\n",
       "0  59.000000       0     0.0     1.0    0.0     0.0\n",
       "1  42.333333       1     1.0     0.0    0.0     0.0\n",
       "2  32.000000       1     0.0     0.0    0.0     1.0\n",
       "3  42.333333       0     0.0     0.0    0.0     0.0\n",
       "4  36.000000       1     0.0     0.0    1.0     0.0"
      ]
     },
     "execution_count": 14,
     "metadata": {},
     "output_type": "execute_result"
    }
   ],
   "source": [
    "encorder.fit_transform(impputer.fit_transform(dropper.fit_transform(df)))"
   ]
  },
  {
   "cell_type": "code",
   "execution_count": 16,
   "id": "e7380992",
   "metadata": {},
   "outputs": [],
   "source": [
    "from sklearn.pipeline import Pipeline\n",
    "\n",
    "pipeline = Pipeline([\n",
    "    ('dropper' , NameDropper()),\n",
    "    ('imputer' , ImputeAge()),\n",
    "    ('encorder' , FeatureEncorder()),\n",
    "])"
   ]
  },
  {
   "cell_type": "code",
   "execution_count": 17,
   "id": "13b3802c",
   "metadata": {},
   "outputs": [
    {
     "data": {
      "text/html": [
       "<div>\n",
       "<style scoped>\n",
       "    .dataframe tbody tr th:only-of-type {\n",
       "        vertical-align: middle;\n",
       "    }\n",
       "\n",
       "    .dataframe tbody tr th {\n",
       "        vertical-align: top;\n",
       "    }\n",
       "\n",
       "    .dataframe thead th {\n",
       "        text-align: right;\n",
       "    }\n",
       "</style>\n",
       "<table border=\"1\" class=\"dataframe\">\n",
       "  <thead>\n",
       "    <tr style=\"text-align: right;\">\n",
       "      <th></th>\n",
       "      <th>age</th>\n",
       "      <th>gender</th>\n",
       "      <th>Dancer</th>\n",
       "      <th>Artist</th>\n",
       "      <th>actor</th>\n",
       "      <th>player</th>\n",
       "    </tr>\n",
       "  </thead>\n",
       "  <tbody>\n",
       "    <tr>\n",
       "      <th>0</th>\n",
       "      <td>59.000000</td>\n",
       "      <td>0</td>\n",
       "      <td>0.0</td>\n",
       "      <td>1.0</td>\n",
       "      <td>0.0</td>\n",
       "      <td>0.0</td>\n",
       "    </tr>\n",
       "    <tr>\n",
       "      <th>1</th>\n",
       "      <td>42.333333</td>\n",
       "      <td>1</td>\n",
       "      <td>1.0</td>\n",
       "      <td>0.0</td>\n",
       "      <td>0.0</td>\n",
       "      <td>0.0</td>\n",
       "    </tr>\n",
       "    <tr>\n",
       "      <th>2</th>\n",
       "      <td>32.000000</td>\n",
       "      <td>1</td>\n",
       "      <td>0.0</td>\n",
       "      <td>0.0</td>\n",
       "      <td>0.0</td>\n",
       "      <td>1.0</td>\n",
       "    </tr>\n",
       "    <tr>\n",
       "      <th>3</th>\n",
       "      <td>42.333333</td>\n",
       "      <td>0</td>\n",
       "      <td>0.0</td>\n",
       "      <td>0.0</td>\n",
       "      <td>0.0</td>\n",
       "      <td>0.0</td>\n",
       "    </tr>\n",
       "    <tr>\n",
       "      <th>4</th>\n",
       "      <td>36.000000</td>\n",
       "      <td>1</td>\n",
       "      <td>0.0</td>\n",
       "      <td>0.0</td>\n",
       "      <td>1.0</td>\n",
       "      <td>0.0</td>\n",
       "    </tr>\n",
       "  </tbody>\n",
       "</table>\n",
       "</div>"
      ],
      "text/plain": [
       "         age  gender  Dancer  Artist  actor  player\n",
       "0  59.000000       0     0.0     1.0    0.0     0.0\n",
       "1  42.333333       1     1.0     0.0    0.0     0.0\n",
       "2  32.000000       1     0.0     0.0    0.0     1.0\n",
       "3  42.333333       0     0.0     0.0    0.0     0.0\n",
       "4  36.000000       1     0.0     0.0    1.0     0.0"
      ]
     },
     "execution_count": 17,
     "metadata": {},
     "output_type": "execute_result"
    }
   ],
   "source": [
    "pipeline.fit_transform(df)"
   ]
  }
 ],
 "metadata": {
  "kernelspec": {
   "display_name": "Python 3 (ipykernel)",
   "language": "python",
   "name": "python3"
  },
  "language_info": {
   "codemirror_mode": {
    "name": "ipython",
    "version": 3
   },
   "file_extension": ".py",
   "mimetype": "text/x-python",
   "name": "python",
   "nbconvert_exporter": "python",
   "pygments_lexer": "ipython3",
   "version": "3.9.13"
  }
 },
 "nbformat": 4,
 "nbformat_minor": 5
}
