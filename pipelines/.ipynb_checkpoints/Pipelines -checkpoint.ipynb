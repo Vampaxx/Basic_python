{
 "cells": [
  {
   "cell_type": "code",
   "execution_count": 1,
   "id": "5dbbe688",
   "metadata": {},
   "outputs": [],
   "source": [
    "import pandas as pd"
   ]
  },
  {
   "cell_type": "code",
   "execution_count": 2,
   "id": "8bb350c8",
   "metadata": {},
   "outputs": [],
   "source": [
    "data = {'name':['Micheal',\"Mia\",'Daniel','Malkova','sunny'],\n",
    "       'age':[59,28,32,None,36],\n",
    "       'gender':['m','f','f','f','f'],\n",
    "       'job':['Dancer','Artist','bowler','player','Singer']}\n",
    "df = pd.DataFrame(data)"
   ]
  },
  {
   "cell_type": "code",
   "execution_count": 3,
   "id": "11646408",
   "metadata": {},
   "outputs": [
    {
     "data": {
      "text/html": [
       "<div>\n",
       "<style scoped>\n",
       "    .dataframe tbody tr th:only-of-type {\n",
       "        vertical-align: middle;\n",
       "    }\n",
       "\n",
       "    .dataframe tbody tr th {\n",
       "        vertical-align: top;\n",
       "    }\n",
       "\n",
       "    .dataframe thead th {\n",
       "        text-align: right;\n",
       "    }\n",
       "</style>\n",
       "<table border=\"1\" class=\"dataframe\">\n",
       "  <thead>\n",
       "    <tr style=\"text-align: right;\">\n",
       "      <th></th>\n",
       "      <th>name</th>\n",
       "      <th>age</th>\n",
       "      <th>gender</th>\n",
       "      <th>job</th>\n",
       "    </tr>\n",
       "  </thead>\n",
       "  <tbody>\n",
       "    <tr>\n",
       "      <th>0</th>\n",
       "      <td>Micheal</td>\n",
       "      <td>59.0</td>\n",
       "      <td>m</td>\n",
       "      <td>Dancer</td>\n",
       "    </tr>\n",
       "    <tr>\n",
       "      <th>1</th>\n",
       "      <td>Mia</td>\n",
       "      <td>28.0</td>\n",
       "      <td>f</td>\n",
       "      <td>Artist</td>\n",
       "    </tr>\n",
       "    <tr>\n",
       "      <th>2</th>\n",
       "      <td>Daniel</td>\n",
       "      <td>32.0</td>\n",
       "      <td>f</td>\n",
       "      <td>bowler</td>\n",
       "    </tr>\n",
       "    <tr>\n",
       "      <th>3</th>\n",
       "      <td>Malkova</td>\n",
       "      <td>NaN</td>\n",
       "      <td>f</td>\n",
       "      <td>player</td>\n",
       "    </tr>\n",
       "    <tr>\n",
       "      <th>4</th>\n",
       "      <td>sunny</td>\n",
       "      <td>36.0</td>\n",
       "      <td>f</td>\n",
       "      <td>Singer</td>\n",
       "    </tr>\n",
       "  </tbody>\n",
       "</table>\n",
       "</div>"
      ],
      "text/plain": [
       "      name   age gender     job\n",
       "0  Micheal  59.0      m  Dancer\n",
       "1      Mia  28.0      f  Artist\n",
       "2   Daniel  32.0      f  bowler\n",
       "3  Malkova   NaN      f  player\n",
       "4    sunny  36.0      f  Singer"
      ]
     },
     "execution_count": 3,
     "metadata": {},
     "output_type": "execute_result"
    }
   ],
   "source": [
    "df.head()"
   ]
  },
  {
   "cell_type": "markdown",
   "id": "8092b777",
   "metadata": {},
   "source": [
    "## preprocessing pipeline\n",
    "\n",
    "- Drop name features\n",
    "- Impute ages\n",
    "- turn gender into binary\n",
    "- One hot encording (job)"
   ]
  },
  {
   "cell_type": "code",
   "execution_count": 4,
   "id": "b41b99b1",
   "metadata": {},
   "outputs": [],
   "source": [
    "from sklearn.impute import SimpleImputer\n",
    "from sklearn.preprocessing import OneHotEncoder"
   ]
  },
  {
   "cell_type": "code",
   "execution_count": null,
   "id": "88ea7184",
   "metadata": {},
   "outputs": [],
   "source": [
    "## 1. name drop\n",
    "## df = df.drop(['name'],axis=1)\n",
    "\n",
    "## 2. Impute Age \n",
    "## imputer = SimpleImputer(strategy = 'mean')\n"
   ]
  },
  {
   "cell_type": "code",
   "execution_count": null,
   "id": "2f6e28db",
   "metadata": {},
   "outputs": [],
   "source": [
    "SimpleImputer()"
   ]
  }
 ],
 "metadata": {
  "kernelspec": {
   "display_name": "Python 3 (ipykernel)",
   "language": "python",
   "name": "python3"
  },
  "language_info": {
   "codemirror_mode": {
    "name": "ipython",
    "version": 3
   },
   "file_extension": ".py",
   "mimetype": "text/x-python",
   "name": "python",
   "nbconvert_exporter": "python",
   "pygments_lexer": "ipython3",
   "version": "3.9.13"
  }
 },
 "nbformat": 4,
 "nbformat_minor": 5
}
