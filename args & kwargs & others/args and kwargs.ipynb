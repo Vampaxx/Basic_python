{
 "cells": [
  {
   "cell_type": "code",
   "execution_count": 1,
   "id": "e254a688",
   "metadata": {},
   "outputs": [],
   "source": [
    "def calfunction(*args):\n",
    "    print(args)\n",
    "    \n",
    "    return sum(args)"
   ]
  },
  {
   "cell_type": "code",
   "execution_count": 2,
   "id": "f62f6d06",
   "metadata": {},
   "outputs": [
    {
     "name": "stdout",
     "output_type": "stream",
     "text": [
      "(25, 2, 5, 6, 3, 4)\n"
     ]
    },
    {
     "data": {
      "text/plain": [
       "45"
      ]
     },
     "execution_count": 2,
     "metadata": {},
     "output_type": "execute_result"
    }
   ],
   "source": [
    "calfunction(25,2,5,6,3,4)"
   ]
  },
  {
   "cell_type": "code",
   "execution_count": 3,
   "id": "afc0c1a6",
   "metadata": {},
   "outputs": [],
   "source": [
    "def news(player = 'sachin', runs = '35'):\n",
    "    return player +' scored'+ runs"
   ]
  },
  {
   "cell_type": "code",
   "execution_count": 4,
   "id": "99ec2fcc",
   "metadata": {},
   "outputs": [
    {
     "data": {
      "text/plain": [
       "'sachin scored 55'"
      ]
     },
     "execution_count": 4,
     "metadata": {},
     "output_type": "execute_result"
    }
   ],
   "source": [
    "news(runs=' 55')"
   ]
  },
  {
   "cell_type": "code",
   "execution_count": 5,
   "id": "4b430abb",
   "metadata": {},
   "outputs": [],
   "source": [
    "def newss(**kwargs):\n",
    "    mystr = kwargs['player'] + ' scored' + kwargs['runs'] + 'runs in match'\n",
    "    if 'match_number' in kwargs:\n",
    "        mystr = kwargs['player'] + ' scored' + kwargs['runs'] + 'runs in '+kwargs['match_number']+' match'\n",
    "    return mystr"
   ]
  },
  {
   "cell_type": "code",
   "execution_count": 6,
   "id": "550168e3",
   "metadata": {},
   "outputs": [
    {
     "data": {
      "text/plain": [
       "'sachin scored55runs in match'"
      ]
     },
     "execution_count": 6,
     "metadata": {},
     "output_type": "execute_result"
    }
   ],
   "source": [
    "newss(player = 'sachin',runs= '55')"
   ]
  },
  {
   "cell_type": "code",
   "execution_count": 7,
   "id": "988571c4",
   "metadata": {},
   "outputs": [
    {
     "data": {
      "text/plain": [
       "'hey scored65runs in first match'"
      ]
     },
     "execution_count": 7,
     "metadata": {},
     "output_type": "execute_result"
    }
   ],
   "source": [
    "newss(player= 'hey',match_number = 'first',runs='65')"
   ]
  },
  {
   "cell_type": "code",
   "execution_count": null,
   "id": "14499bab",
   "metadata": {},
   "outputs": [],
   "source": []
  },
  {
   "cell_type": "code",
   "execution_count": 8,
   "id": "ce7a7831",
   "metadata": {},
   "outputs": [],
   "source": [
    "def pearon(*args):\n",
    "    print(args)"
   ]
  },
  {
   "cell_type": "code",
   "execution_count": 9,
   "id": "4afd3ecd",
   "metadata": {},
   "outputs": [
    {
     "name": "stdout",
     "output_type": "stream",
     "text": [
      "('Arjun', 'Micheal', 25)\n"
     ]
    }
   ],
   "source": [
    "pearon('Arjun','Micheal',25)"
   ]
  },
  {
   "cell_type": "code",
   "execution_count": 10,
   "id": "6ddf4125",
   "metadata": {},
   "outputs": [],
   "source": [
    "def pearson_kwrgs(name,**kwargs):\n",
    "    print(name)\n",
    "    print(kwargs)\n",
    "    if 'place' in kwargs:\n",
    "        print(name +'is living in '+ kwargs['place'])"
   ]
  },
  {
   "cell_type": "code",
   "execution_count": 11,
   "id": "e7867d20",
   "metadata": {},
   "outputs": [
    {
     "name": "stdout",
     "output_type": "stream",
     "text": [
      "Arjun\n",
      "{'place': 'kannur', 'age': 15}\n",
      "Arjunis living in kannur\n"
     ]
    }
   ],
   "source": [
    "pearson_kwrgs(name='Arjun',place='kannur',age=15)"
   ]
  },
  {
   "cell_type": "code",
   "execution_count": 12,
   "id": "eb48611e",
   "metadata": {},
   "outputs": [],
   "source": [
    "def kwargs(name,**kwargs):\n",
    "    print(name)\n",
    "    for i,j in kwargs.items():\n",
    "        print(i,j)"
   ]
  },
  {
   "cell_type": "code",
   "execution_count": 13,
   "id": "45151c73",
   "metadata": {},
   "outputs": [
    {
     "name": "stdout",
     "output_type": "stream",
     "text": [
      "Arjun\n",
      "place kannur\n",
      "age 24\n",
      "fav_actor Srk\n"
     ]
    }
   ],
   "source": [
    "kwargs(name='Arjun',place='kannur',age=24,fav_actor = 'Srk')"
   ]
  }
 ],
 "metadata": {
  "kernelspec": {
   "display_name": "Python 3 (ipykernel)",
   "language": "python",
   "name": "python3"
  },
  "language_info": {
   "codemirror_mode": {
    "name": "ipython",
    "version": 3
   },
   "file_extension": ".py",
   "mimetype": "text/x-python",
   "name": "python",
   "nbconvert_exporter": "python",
   "pygments_lexer": "ipython3",
   "version": "3.9.13"
  }
 },
 "nbformat": 4,
 "nbformat_minor": 5
}
