{
 "cells": [
  {
   "cell_type": "code",
   "execution_count": 1,
   "id": "052482f7",
   "metadata": {},
   "outputs": [
    {
     "name": "stdout",
     "output_type": "stream",
     "text": [
      "7\n"
     ]
    }
   ],
   "source": [
    "def compose (x,y,z):\n",
    "    return x(y(z))\n",
    "\n",
    "compose(print, len, 'Vampaxx')"
   ]
  },
  {
   "cell_type": "code",
   "execution_count": 2,
   "id": "a0d51f1e",
   "metadata": {},
   "outputs": [],
   "source": [
    "import random"
   ]
  },
  {
   "cell_type": "code",
   "execution_count": 9,
   "id": "b0f42c16",
   "metadata": {},
   "outputs": [],
   "source": [
    "def random_power():\n",
    "    def f(x):\n",
    "        return x ** 2\n",
    "    def g(x):\n",
    "        return x ** 3\n",
    "    def h(x):\n",
    "        return x ** 4\n",
    "    \n",
    "    functions = [f,g,h]\n",
    "    return random.choice(functions)"
   ]
  },
  {
   "cell_type": "code",
   "execution_count": 16,
   "id": "ec1a1263",
   "metadata": {},
   "outputs": [
    {
     "name": "stdout",
     "output_type": "stream",
     "text": [
      "27\n",
      "27\n",
      "81\n",
      "81\n",
      "9\n",
      "27\n",
      "27\n",
      "81\n",
      "81\n",
      "27\n"
     ]
    }
   ],
   "source": [
    "for i in range(10):\n",
    "    p = random_power()\n",
    "    print(p(3))"
   ]
  },
  {
   "cell_type": "code",
   "execution_count": null,
   "id": "90c88693",
   "metadata": {},
   "outputs": [],
   "source": []
  }
 ],
 "metadata": {
  "kernelspec": {
   "display_name": "Python 3 (ipykernel)",
   "language": "python",
   "name": "python3"
  },
  "language_info": {
   "codemirror_mode": {
    "name": "ipython",
    "version": 3
   },
   "file_extension": ".py",
   "mimetype": "text/x-python",
   "name": "python",
   "nbconvert_exporter": "python",
   "pygments_lexer": "ipython3",
   "version": "3.11.4"
  }
 },
 "nbformat": 4,
 "nbformat_minor": 5
}
