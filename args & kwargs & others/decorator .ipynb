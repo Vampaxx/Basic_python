{
 "cells": [
  {
   "cell_type": "code",
   "execution_count": 79,
   "id": "3dd7a7ed",
   "metadata": {},
   "outputs": [],
   "source": [
    "def check(func):\n",
    "    \n",
    "    def inner(a,b):\n",
    "        if a<b:\n",
    "            a,b = b,a\n",
    "        return func(a,b)\n",
    "    return inner"
   ]
  },
  {
   "cell_type": "code",
   "execution_count": 80,
   "id": "c15138c5",
   "metadata": {},
   "outputs": [],
   "source": [
    "@check\n",
    "def divion(a,b):\n",
    "    return a/b"
   ]
  },
  {
   "cell_type": "code",
   "execution_count": 84,
   "id": "baaea9db",
   "metadata": {},
   "outputs": [],
   "source": [
    "def zero_check(func):\n",
    "    \n",
    "    def inner(a,b):\n",
    "        if b == 0:\n",
    "            print('cannot divide by zero')\n",
    "            return \n",
    "        func(a,b)\n",
    "    return inner"
   ]
  },
  {
   "cell_type": "code",
   "execution_count": 85,
   "id": "949007be",
   "metadata": {},
   "outputs": [],
   "source": [
    "@zero_check\n",
    "def div(a,b):\n",
    "    return a/b"
   ]
  },
  {
   "cell_type": "code",
   "execution_count": 86,
   "id": "9dbe72a0",
   "metadata": {},
   "outputs": [
    {
     "name": "stdout",
     "output_type": "stream",
     "text": [
      "cannot divide by zero\n"
     ]
    }
   ],
   "source": [
    "div(52,0)"
   ]
  },
  {
   "cell_type": "code",
   "execution_count": 98,
   "id": "1a31f66f",
   "metadata": {},
   "outputs": [],
   "source": [
    "def upper_(text):\n",
    "    return text.upper()\n",
    "def lower_(text):\n",
    "    return text.lower()\n",
    "\n",
    "def converting_function(func):\n",
    "    # storing the function in a variable\n",
    "    greeting = func(\"\"\"Hi, I am created by a function passed as an argument.\"\"\")\n",
    "    print (greeting)"
   ]
  },
  {
   "cell_type": "code",
   "execution_count": 108,
   "id": "1fe9be30",
   "metadata": {},
   "outputs": [
    {
     "name": "stdout",
     "output_type": "stream",
     "text": [
      "HI, I AM CREATED BY A FUNCTION PASSED AS AN ARGUMENT.\n",
      "hi, i am created by a function passed as an argument.\n"
     ]
    }
   ],
   "source": [
    "\n",
    "converting_function(upper_)\n",
    "converting_function(lower_)"
   ]
  },
  {
   "cell_type": "code",
   "execution_count": 116,
   "id": "8953521a",
   "metadata": {},
   "outputs": [],
   "source": [
    "def hello_decorator(func):\n",
    "    def inner1():\n",
    "        print('this is before execution')\n",
    "        #func()        \n",
    "        print('this is after execution')\n",
    "    return inner1\n",
    "\n",
    "def function_to_be_used():\n",
    "    print('this is inside function')\n",
    "    return function_to_be_used"
   ]
  },
  {
   "cell_type": "code",
   "execution_count": 117,
   "id": "f4180766",
   "metadata": {},
   "outputs": [],
   "source": [
    "a = hello_decorator(function_to_be_used)"
   ]
  },
  {
   "cell_type": "code",
   "execution_count": 118,
   "id": "6d03a8ea",
   "metadata": {},
   "outputs": [
    {
     "name": "stdout",
     "output_type": "stream",
     "text": [
      "this is before execution\n",
      "this is after execution\n"
     ]
    }
   ],
   "source": [
    "a()"
   ]
  },
  {
   "cell_type": "code",
   "execution_count": null,
   "id": "6e02a2c7",
   "metadata": {},
   "outputs": [],
   "source": []
  },
  {
   "cell_type": "code",
   "execution_count": null,
   "id": "a1d4ed12",
   "metadata": {},
   "outputs": [],
   "source": []
  },
  {
   "cell_type": "code",
   "execution_count": null,
   "id": "3bae8ec7",
   "metadata": {},
   "outputs": [],
   "source": []
  },
  {
   "cell_type": "code",
   "execution_count": null,
   "id": "fdbb269a",
   "metadata": {},
   "outputs": [],
   "source": []
  },
  {
   "cell_type": "code",
   "execution_count": null,
   "id": "10b1b922",
   "metadata": {},
   "outputs": [],
   "source": []
  },
  {
   "cell_type": "code",
   "execution_count": null,
   "id": "078d7462",
   "metadata": {},
   "outputs": [],
   "source": []
  }
 ],
 "metadata": {
  "kernelspec": {
   "display_name": "Python 3 (ipykernel)",
   "language": "python",
   "name": "python3"
  },
  "language_info": {
   "codemirror_mode": {
    "name": "ipython",
    "version": 3
   },
   "file_extension": ".py",
   "mimetype": "text/x-python",
   "name": "python",
   "nbconvert_exporter": "python",
   "pygments_lexer": "ipython3",
   "version": "3.9.13"
  }
 },
 "nbformat": 4,
 "nbformat_minor": 5
}
