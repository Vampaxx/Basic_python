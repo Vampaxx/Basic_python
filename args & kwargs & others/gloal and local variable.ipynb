{
 "cells": [
  {
   "cell_type": "code",
   "execution_count": 10,
   "id": "530f2e50",
   "metadata": {},
   "outputs": [
    {
     "name": "stdout",
     "output_type": "stream",
     "text": [
      "inside 15\n",
      "outside 10\n"
     ]
    }
   ],
   "source": [
    "a = 10\n",
    "\n",
    "def something():\n",
    "    a = 15\n",
    "    print('inside',a)\n",
    "    \n",
    "something()    \n",
    "print('outside',a)   "
   ]
  },
  {
   "cell_type": "code",
   "execution_count": 34,
   "id": "06bbd386",
   "metadata": {},
   "outputs": [],
   "source": [
    "a = 20\n",
    "b = 25\n",
    "c = 30\n",
    "d = 40\n",
    "def something():\n",
    "    a= 15\n",
    "    x = globals()['a']\n",
    "    y = globals()['b']\n",
    "    print('inside',a,'global-',x)\n",
    "    print(y)\n",
    "    # we can change the global variable by inside the function\n",
    "    globals()['a'] = 50\n",
    "    print('----------')\n"
   ]
  },
  {
   "cell_type": "code",
   "execution_count": 35,
   "id": "2adf0b02",
   "metadata": {},
   "outputs": [
    {
     "name": "stdout",
     "output_type": "stream",
     "text": [
      "inside 15 global- 20\n",
      "25\n",
      "----------\n",
      "outside 50\n"
     ]
    }
   ],
   "source": [
    "something()   \n",
    "print('outside',a)"
   ]
  },
  {
   "cell_type": "code",
   "execution_count": 36,
   "id": "29788c4b",
   "metadata": {},
   "outputs": [
    {
     "name": "stdout",
     "output_type": "stream",
     "text": [
      "50\n"
     ]
    }
   ],
   "source": [
    "print(a)"
   ]
  },
  {
   "cell_type": "code",
   "execution_count": null,
   "id": "f9fc98eb",
   "metadata": {},
   "outputs": [],
   "source": []
  }
 ],
 "metadata": {
  "kernelspec": {
   "display_name": "Python 3 (ipykernel)",
   "language": "python",
   "name": "python3"
  },
  "language_info": {
   "codemirror_mode": {
    "name": "ipython",
    "version": 3
   },
   "file_extension": ".py",
   "mimetype": "text/x-python",
   "name": "python",
   "nbconvert_exporter": "python",
   "pygments_lexer": "ipython3",
   "version": "3.9.13"
  }
 },
 "nbformat": 4,
 "nbformat_minor": 5
}
