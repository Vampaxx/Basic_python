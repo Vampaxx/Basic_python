{
 "cells": [
  {
   "cell_type": "code",
   "execution_count": 1,
   "id": "a18fe6a0",
   "metadata": {},
   "outputs": [],
   "source": [
    "number = [1, 2, 3, 4, 4, 5, 6, 6, 7]"
   ]
  },
  {
   "cell_type": "code",
   "execution_count": 7,
   "id": "178b1c17",
   "metadata": {},
   "outputs": [],
   "source": [
    "duplicate = []\n",
    "for i in number:\n",
    "    if i not in duplicate:\n",
    "        duplicate.append(i)"
   ]
  },
  {
   "cell_type": "code",
   "execution_count": 26,
   "id": "708248c1",
   "metadata": {},
   "outputs": [],
   "source": [
    "duplicate = []\n",
    "duplicate_set = set()\n",
    "for i in number:\n",
    "    if i in duplicate:\n",
    "        duplicate_set.add(i)\n",
    "    else:\n",
    "        duplicate.append(i)"
   ]
  },
  {
   "cell_type": "code",
   "execution_count": 28,
   "id": "bfd2c63d",
   "metadata": {},
   "outputs": [
    {
     "data": {
      "text/plain": [
       "'xxapmav si ataD'"
      ]
     },
     "execution_count": 28,
     "metadata": {},
     "output_type": "execute_result"
    }
   ],
   "source": [
    "word = \"vampaxx is Data\"\n",
    "split_word = word.split()\n",
    "reverse_word = ' '.join(word[::-1] for word in split_word)\n",
    "reverse_word"
   ]
  },
  {
   "cell_type": "code",
   "execution_count": 30,
   "id": "e1383748",
   "metadata": {},
   "outputs": [
    {
     "data": {
      "text/plain": [
       "True"
      ]
     },
     "execution_count": 30,
     "metadata": {},
     "output_type": "execute_result"
    }
   ],
   "source": [
    "sorted(\"car\") == sorted('rac')"
   ]
  }
 ],
 "metadata": {
  "kernelspec": {
   "display_name": "Python 3 (ipykernel)",
   "language": "python",
   "name": "python3"
  },
  "language_info": {
   "codemirror_mode": {
    "name": "ipython",
    "version": 3
   },
   "file_extension": ".py",
   "mimetype": "text/x-python",
   "name": "python",
   "nbconvert_exporter": "python",
   "pygments_lexer": "ipython3",
   "version": "3.11.4"
  }
 },
 "nbformat": 4,
 "nbformat_minor": 5
}
