{
 "cells": [
  {
   "cell_type": "code",
   "execution_count": 2,
   "id": "9be04a42",
   "metadata": {},
   "outputs": [],
   "source": [
    "class Calculator:\n",
    "    \n",
    "    def __init__(self,num1,num2):\n",
    "        self.num1 = num1\n",
    "        self.num2 = num2\n",
    "        \n",
    "    def addition(self):\n",
    "        return self.num1+self.num2\n",
    "    \n",
    "    def subtraction(self):\n",
    "        return self.num1 + self.num2\n",
    "    \n",
    "    def multiplication(self):\n",
    "        return self.num1 * self.num2\n",
    "    \n",
    "    def divition(self):\n",
    "        return self.num1 / self.num2\n",
    "            "
   ]
  },
  {
   "cell_type": "code",
   "execution_count": 3,
   "id": "c449feba",
   "metadata": {},
   "outputs": [],
   "source": [
    "cal = Calculator(num1=2,num2=5)"
   ]
  },
  {
   "cell_type": "code",
   "execution_count": 4,
   "id": "60087d5c",
   "metadata": {},
   "outputs": [
    {
     "data": {
      "text/plain": [
       "10"
      ]
     },
     "execution_count": 4,
     "metadata": {},
     "output_type": "execute_result"
    }
   ],
   "source": [
    "cal.multiplication()"
   ]
  }
 ],
 "metadata": {
  "kernelspec": {
   "display_name": "Python 3 (ipykernel)",
   "language": "python",
   "name": "python3"
  },
  "language_info": {
   "codemirror_mode": {
    "name": "ipython",
    "version": 3
   },
   "file_extension": ".py",
   "mimetype": "text/x-python",
   "name": "python",
   "nbconvert_exporter": "python",
   "pygments_lexer": "ipython3",
   "version": "3.11.4"
  }
 },
 "nbformat": 4,
 "nbformat_minor": 5
}
